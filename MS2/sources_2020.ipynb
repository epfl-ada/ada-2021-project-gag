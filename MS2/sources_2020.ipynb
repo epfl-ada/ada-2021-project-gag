{
  "nbformat": 4,
  "nbformat_minor": 0,
  "metadata": {
    "colab": {
      "name": "Sources 2020.ipynb",
      "provenance": []
    },
    "kernelspec": {
      "name": "python3",
      "display_name": "Python 3"
    },
    "language_info": {
      "name": "python"
    }
  },
  "cells": [
    {
      "cell_type": "markdown",
      "metadata": {
        "id": "YlLXq9BA-Uwz"
      },
      "source": [
        "# Exploring the sources of the data\n",
        "\n",
        "Now that we have the sports quotes extracted, we can investigate on the sources of the quotes. In this notebook we are going to explore year 2020 which is containing the less data. Therefore if this year shows reasonable amount of data, we are expecting all the other years to do so. \n",
        "\n",
        "The data are explored by chunk anyway, so the code can be used with bigger datasets without any problem. This is an important step as the code becomes a bit more complicated when exploring the datas by chunks."
      ]
    },
    {
      "cell_type": "markdown",
      "metadata": {
        "id": "i9Z3K5Ez-891"
      },
      "source": [
        "This first section of the code is just setting up the environment and loading everything that is necessary for the rest of the analysis. Some downgrading are performed because they are necessary to make the code work on Google Colab, which has been used here."
      ]
    },
    {
      "cell_type": "code",
      "metadata": {
        "colab": {
          "base_uri": "https://localhost:8080/"
        },
        "id": "HT9RtgAiZPmw",
        "outputId": "dfdd0e4b-856c-449a-a980-28ed689c64a2"
      },
      "source": [
        "from google.colab import drive\n",
        "drive.mount('/content/drive')"
      ],
      "execution_count": null,
      "outputs": [
        {
          "output_type": "stream",
          "name": "stdout",
          "text": [
            "Mounted at /content/drive\n"
          ]
        }
      ]
    },
    {
      "cell_type": "code",
      "metadata": {
        "colab": {
          "base_uri": "https://localhost:8080/",
          "height": 442
        },
        "id": "AuPXGffMAu0o",
        "outputId": "111ef7f4-2f86-41b6-9e68-9bf81410fd28"
      },
      "source": [
        "!pip install tld\n",
        "!pip install pandas==1.0.5"
      ],
      "execution_count": null,
      "outputs": [
        {
          "output_type": "stream",
          "name": "stdout",
          "text": [
            "Collecting tld\n",
            "  Downloading tld-0.12.6-py37-none-any.whl (412 kB)\n",
            "\u001b[?25l\r\u001b[K     |▉                               | 10 kB 22.3 MB/s eta 0:00:01\r\u001b[K     |█▋                              | 20 kB 26.7 MB/s eta 0:00:01\r\u001b[K     |██▍                             | 30 kB 20.1 MB/s eta 0:00:01\r\u001b[K     |███▏                            | 40 kB 16.8 MB/s eta 0:00:01\r\u001b[K     |████                            | 51 kB 7.4 MB/s eta 0:00:01\r\u001b[K     |████▊                           | 61 kB 8.6 MB/s eta 0:00:01\r\u001b[K     |█████▋                          | 71 kB 8.1 MB/s eta 0:00:01\r\u001b[K     |██████▍                         | 81 kB 9.0 MB/s eta 0:00:01\r\u001b[K     |███████▏                        | 92 kB 9.6 MB/s eta 0:00:01\r\u001b[K     |████████                        | 102 kB 7.3 MB/s eta 0:00:01\r\u001b[K     |████████▊                       | 112 kB 7.3 MB/s eta 0:00:01\r\u001b[K     |█████████▌                      | 122 kB 7.3 MB/s eta 0:00:01\r\u001b[K     |██████████▍                     | 133 kB 7.3 MB/s eta 0:00:01\r\u001b[K     |███████████▏                    | 143 kB 7.3 MB/s eta 0:00:01\r\u001b[K     |████████████                    | 153 kB 7.3 MB/s eta 0:00:01\r\u001b[K     |████████████▊                   | 163 kB 7.3 MB/s eta 0:00:01\r\u001b[K     |█████████████▌                  | 174 kB 7.3 MB/s eta 0:00:01\r\u001b[K     |██████████████▎                 | 184 kB 7.3 MB/s eta 0:00:01\r\u001b[K     |███████████████                 | 194 kB 7.3 MB/s eta 0:00:01\r\u001b[K     |████████████████                | 204 kB 7.3 MB/s eta 0:00:01\r\u001b[K     |████████████████▊               | 215 kB 7.3 MB/s eta 0:00:01\r\u001b[K     |█████████████████▌              | 225 kB 7.3 MB/s eta 0:00:01\r\u001b[K     |██████████████████▎             | 235 kB 7.3 MB/s eta 0:00:01\r\u001b[K     |███████████████████             | 245 kB 7.3 MB/s eta 0:00:01\r\u001b[K     |███████████████████▉            | 256 kB 7.3 MB/s eta 0:00:01\r\u001b[K     |████████████████████▊           | 266 kB 7.3 MB/s eta 0:00:01\r\u001b[K     |█████████████████████▌          | 276 kB 7.3 MB/s eta 0:00:01\r\u001b[K     |██████████████████████▎         | 286 kB 7.3 MB/s eta 0:00:01\r\u001b[K     |███████████████████████         | 296 kB 7.3 MB/s eta 0:00:01\r\u001b[K     |███████████████████████▉        | 307 kB 7.3 MB/s eta 0:00:01\r\u001b[K     |████████████████████████▋       | 317 kB 7.3 MB/s eta 0:00:01\r\u001b[K     |█████████████████████████▍      | 327 kB 7.3 MB/s eta 0:00:01\r\u001b[K     |██████████████████████████▎     | 337 kB 7.3 MB/s eta 0:00:01\r\u001b[K     |███████████████████████████     | 348 kB 7.3 MB/s eta 0:00:01\r\u001b[K     |███████████████████████████▉    | 358 kB 7.3 MB/s eta 0:00:01\r\u001b[K     |████████████████████████████▋   | 368 kB 7.3 MB/s eta 0:00:01\r\u001b[K     |█████████████████████████████▍  | 378 kB 7.3 MB/s eta 0:00:01\r\u001b[K     |██████████████████████████████▏ | 389 kB 7.3 MB/s eta 0:00:01\r\u001b[K     |███████████████████████████████ | 399 kB 7.3 MB/s eta 0:00:01\r\u001b[K     |███████████████████████████████▉| 409 kB 7.3 MB/s eta 0:00:01\r\u001b[K     |████████████████████████████████| 412 kB 7.3 MB/s \n",
            "\u001b[?25hInstalling collected packages: tld\n",
            "Successfully installed tld-0.12.6\n",
            "Collecting pandas==1.0.5\n",
            "  Downloading pandas-1.0.5-cp37-cp37m-manylinux1_x86_64.whl (10.1 MB)\n",
            "\u001b[K     |████████████████████████████████| 10.1 MB 8.8 MB/s \n",
            "\u001b[?25hRequirement already satisfied: python-dateutil>=2.6.1 in /usr/local/lib/python3.7/dist-packages (from pandas==1.0.5) (2.8.2)\n",
            "Requirement already satisfied: pytz>=2017.2 in /usr/local/lib/python3.7/dist-packages (from pandas==1.0.5) (2018.9)\n",
            "Requirement already satisfied: numpy>=1.13.3 in /usr/local/lib/python3.7/dist-packages (from pandas==1.0.5) (1.19.5)\n",
            "Requirement already satisfied: six>=1.5 in /usr/local/lib/python3.7/dist-packages (from python-dateutil>=2.6.1->pandas==1.0.5) (1.15.0)\n",
            "Installing collected packages: pandas\n",
            "  Attempting uninstall: pandas\n",
            "    Found existing installation: pandas 1.1.5\n",
            "    Uninstalling pandas-1.1.5:\n",
            "      Successfully uninstalled pandas-1.1.5\n",
            "\u001b[31mERROR: pip's dependency resolver does not currently take into account all the packages that are installed. This behaviour is the source of the following dependency conflicts.\n",
            "google-colab 1.0.0 requires pandas~=1.1.0; python_version >= \"3.0\", but you have pandas 1.0.5 which is incompatible.\u001b[0m\n",
            "Successfully installed pandas-1.0.5\n"
          ]
        },
        {
          "output_type": "display_data",
          "data": {
            "application/vnd.colab-display-data+json": {
              "pip_warning": {
                "packages": [
                  "pandas"
                ]
              }
            }
          },
          "metadata": {}
        }
      ]
    },
    {
      "cell_type": "code",
      "metadata": {
        "id": "t7KGyI68ZyAx"
      },
      "source": [
        "# Imports you may need\n",
        "import seaborn as sns\n",
        "from IPython.display import display, HTML\n",
        "import matplotlib.pyplot as plt\n",
        "import scipy.stats as stats\n",
        "import pandas as pd\n",
        "import numpy as np\n",
        "from tld import get_tld\n",
        "from ast import literal_eval"
      ],
      "execution_count": null,
      "outputs": []
    },
    {
      "cell_type": "markdown",
      "metadata": {
        "id": "qwy6Sjmh-Iwq"
      },
      "source": [
        "# Sources of the news\n",
        "\n",
        "Now let's first have a look at the different sources of the news. To do so we will explore each URL of each quotation to extract the domain. To do so we use the package TLD. "
      ]
    },
    {
      "cell_type": "code",
      "metadata": {
        "colab": {
          "base_uri": "https://localhost:8080/"
        },
        "id": "Z82Lt0ziW63Z",
        "outputId": "43a96e24-8096-455d-c4c1-2c295b9ba188"
      },
      "source": [
        "incre = 0 # Counting how many chunks are open\n",
        "nlines = 0 # Counting how many lines there are in the complete file\n",
        "nurls = 0 # Counting the number of URL there are\n",
        "for chunk in pd.read_csv('/content/drive/MyDrive/ada-sports-quotes/sport-quotes-2020.csv.bz2', compression='bz2', converters={'urls': literal_eval}, chunksize=100000):\n",
        "  incre += 1\n",
        "  sources = []\n",
        "  for urls in chunk.urls:\n",
        "    nlines += 1\n",
        "    for url in urls:\n",
        "      nurls += 1\n",
        "      res = get_tld(url, as_object=True)\n",
        "      sources.append(res.domain) # Recover all the sources in the chunk\n",
        "  dfsources = pd.DataFrame() # Dataframe to store the sources and group them\n",
        "  dfsources['label'] = sources\n",
        "  dfsources = dfsources.groupby(dfsources.label).size().reset_index(name='counts')\n",
        "  print(incre)\n",
        "  if incre == 1:\n",
        "    ranking = dfsources # Ranking will be the final datafram containing the counting of each unique source\n",
        "  else:\n",
        "    ranking = ranking.merge(dfsources, on='label', how='outer').fillna(0) # Merge ranking with dfsources\n",
        "    ranking['counts'] = ranking.counts_x + ranking.counts_y\n",
        "    ranking = ranking.drop(columns=['counts_x','counts_y'])\n",
        "ranking = ranking.sort_values('counts',ascending=False)\n",
        "print('{} media out of {} quoting of {} unique quotes'.format(ranking.shape[0],nurls,nlines))"
      ],
      "execution_count": null,
      "outputs": [
        {
          "output_type": "stream",
          "name": "stdout",
          "text": [
            "1\n",
            "2\n",
            "3\n",
            "4\n",
            "5\n",
            "6\n",
            "7\n",
            "4676 media out of 3338950 quoting of 641614 unique quotes\n"
          ]
        }
      ]
    },
    {
      "cell_type": "markdown",
      "metadata": {
        "id": "Ms8ojl-CCDgX"
      },
      "source": [
        "Only looking at these results, one can conclude two things : \n",
        "\n",
        "\n",
        "*   The number of unique sources (4676) is very small compared to the number of unique quotes (641k) \n",
        "*   Certain quotes are used many times as the number of quotes (3M) is huge compared to the number of unique quotes (641k)\n",
        "\n",
        "Now let's explore the results of \"ranking\" :\n",
        "\n"
      ]
    },
    {
      "cell_type": "code",
      "metadata": {
        "colab": {
          "base_uri": "https://localhost:8080/",
          "height": 297
        },
        "id": "1c-2cTwpDOyy",
        "outputId": "8aed50b5-8b50-41af-e12c-1a5d2d61ed29"
      },
      "source": [
        "ranking.describe()"
      ],
      "execution_count": null,
      "outputs": [
        {
          "output_type": "execute_result",
          "data": {
            "text/html": [
              "<div>\n",
              "<style scoped>\n",
              "    .dataframe tbody tr th:only-of-type {\n",
              "        vertical-align: middle;\n",
              "    }\n",
              "\n",
              "    .dataframe tbody tr th {\n",
              "        vertical-align: top;\n",
              "    }\n",
              "\n",
              "    .dataframe thead th {\n",
              "        text-align: right;\n",
              "    }\n",
              "</style>\n",
              "<table border=\"1\" class=\"dataframe\">\n",
              "  <thead>\n",
              "    <tr style=\"text-align: right;\">\n",
              "      <th></th>\n",
              "      <th>counts</th>\n",
              "    </tr>\n",
              "  </thead>\n",
              "  <tbody>\n",
              "    <tr>\n",
              "      <th>count</th>\n",
              "      <td>4676.000000</td>\n",
              "    </tr>\n",
              "    <tr>\n",
              "      <th>mean</th>\n",
              "      <td>714.061163</td>\n",
              "    </tr>\n",
              "    <tr>\n",
              "      <th>std</th>\n",
              "      <td>2639.812904</td>\n",
              "    </tr>\n",
              "    <tr>\n",
              "      <th>min</th>\n",
              "      <td>1.000000</td>\n",
              "    </tr>\n",
              "    <tr>\n",
              "      <th>25%</th>\n",
              "      <td>5.000000</td>\n",
              "    </tr>\n",
              "    <tr>\n",
              "      <th>50%</th>\n",
              "      <td>26.000000</td>\n",
              "    </tr>\n",
              "    <tr>\n",
              "      <th>75%</th>\n",
              "      <td>179.250000</td>\n",
              "    </tr>\n",
              "    <tr>\n",
              "      <th>max</th>\n",
              "      <td>72913.000000</td>\n",
              "    </tr>\n",
              "  </tbody>\n",
              "</table>\n",
              "</div>"
            ],
            "text/plain": [
              "             counts\n",
              "count   4676.000000\n",
              "mean     714.061163\n",
              "std     2639.812904\n",
              "min        1.000000\n",
              "25%        5.000000\n",
              "50%       26.000000\n",
              "75%      179.250000\n",
              "max    72913.000000"
            ]
          },
          "metadata": {},
          "execution_count": 5
        }
      ]
    },
    {
      "cell_type": "markdown",
      "metadata": {
        "id": "DVeySHeQDTy1"
      },
      "source": [
        "One can already conclude from \"describe\" that the distribution is heavy tailed given that the std is huge compared to the mean which is itself huge compared to the median. Therefore, only few media are publishing a lot of sports quote (probably several times the same sometimes)."
      ]
    },
    {
      "cell_type": "code",
      "metadata": {
        "id": "ufv0WWthseaM",
        "colab": {
          "base_uri": "https://localhost:8080/",
          "height": 359
        },
        "outputId": "14a5ea89-e925-4d54-991a-ede8c36c5d6d"
      },
      "source": [
        "ranking.head(10)"
      ],
      "execution_count": null,
      "outputs": [
        {
          "output_type": "execute_result",
          "data": {
            "text/html": [
              "<div>\n",
              "<style scoped>\n",
              "    .dataframe tbody tr th:only-of-type {\n",
              "        vertical-align: middle;\n",
              "    }\n",
              "\n",
              "    .dataframe tbody tr th {\n",
              "        vertical-align: top;\n",
              "    }\n",
              "\n",
              "    .dataframe thead th {\n",
              "        text-align: right;\n",
              "    }\n",
              "</style>\n",
              "<table border=\"1\" class=\"dataframe\">\n",
              "  <thead>\n",
              "    <tr style=\"text-align: right;\">\n",
              "      <th></th>\n",
              "      <th>label</th>\n",
              "      <th>counts</th>\n",
              "    </tr>\n",
              "  </thead>\n",
              "  <tbody>\n",
              "    <tr>\n",
              "      <th>2016</th>\n",
              "      <td>nbcsports</td>\n",
              "      <td>72913.0</td>\n",
              "    </tr>\n",
              "    <tr>\n",
              "      <th>2059</th>\n",
              "      <td>news965</td>\n",
              "      <td>57164.0</td>\n",
              "    </tr>\n",
              "    <tr>\n",
              "      <th>1925</th>\n",
              "      <td>msn</td>\n",
              "      <td>45772.0</td>\n",
              "    </tr>\n",
              "    <tr>\n",
              "      <th>3467</th>\n",
              "      <td>wokv</td>\n",
              "      <td>40948.0</td>\n",
              "    </tr>\n",
              "    <tr>\n",
              "      <th>1598</th>\n",
              "      <td>krmg</td>\n",
              "      <td>34335.0</td>\n",
              "    </tr>\n",
              "    <tr>\n",
              "      <th>3510</th>\n",
              "      <td>wsbradio</td>\n",
              "      <td>29831.0</td>\n",
              "    </tr>\n",
              "    <tr>\n",
              "      <th>945</th>\n",
              "      <td>eurosport</td>\n",
              "      <td>27672.0</td>\n",
              "    </tr>\n",
              "    <tr>\n",
              "      <th>2613</th>\n",
              "      <td>skysports</td>\n",
              "      <td>23418.0</td>\n",
              "    </tr>\n",
              "    <tr>\n",
              "      <th>2080</th>\n",
              "      <td>newsok</td>\n",
              "      <td>21538.0</td>\n",
              "    </tr>\n",
              "    <tr>\n",
              "      <th>2753</th>\n",
              "      <td>stv</td>\n",
              "      <td>21232.0</td>\n",
              "    </tr>\n",
              "  </tbody>\n",
              "</table>\n",
              "</div>"
            ],
            "text/plain": [
              "          label   counts\n",
              "2016  nbcsports  72913.0\n",
              "2059    news965  57164.0\n",
              "1925        msn  45772.0\n",
              "3467       wokv  40948.0\n",
              "1598       krmg  34335.0\n",
              "3510   wsbradio  29831.0\n",
              "945   eurosport  27672.0\n",
              "2613  skysports  23418.0\n",
              "2080     newsok  21538.0\n",
              "2753        stv  21232.0"
            ]
          },
          "metadata": {},
          "execution_count": 6
        }
      ]
    }
  ]
}
