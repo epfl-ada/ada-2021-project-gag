{
  "nbformat": 4,
  "nbformat_minor": 0,
  "metadata": {
    "colab": {
      "name": "MS2.ipynb",
      "provenance": []
    },
    "kernelspec": {
      "name": "python3",
      "display_name": "Python 3"
    },
    "language_info": {
      "name": "python"
    }
  },
  "cells": [
    {
      "cell_type": "code",
      "metadata": {
        "colab": {
          "base_uri": "https://localhost:8080/"
        },
        "id": "HT9RtgAiZPmw",
        "outputId": "70ddc884-d417-4d3c-c82a-5be8d78ce043"
      },
      "source": [
        "from google.colab import drive\n",
        "drive.mount('/content/drive')"
      ],
      "execution_count": 1,
      "outputs": [
        {
          "output_type": "stream",
          "name": "stdout",
          "text": [
            "Mounted at /content/drive\n"
          ]
        }
      ]
    },
    {
      "cell_type": "code",
      "metadata": {
        "colab": {
          "base_uri": "https://localhost:8080/",
          "height": 442
        },
        "id": "AuPXGffMAu0o",
        "outputId": "54efa11f-76aa-4ab9-da39-0e2b7fc1ce36"
      },
      "source": [
        "!pip install tld\n",
        "!pip install pandas==1.0.5"
      ],
      "execution_count": 2,
      "outputs": [
        {
          "output_type": "stream",
          "name": "stdout",
          "text": [
            "Collecting tld\n",
            "  Downloading tld-0.12.6-py37-none-any.whl (412 kB)\n",
            "\u001b[?25l\r\u001b[K     |▉                               | 10 kB 21.6 MB/s eta 0:00:01\r\u001b[K     |█▋                              | 20 kB 9.6 MB/s eta 0:00:01\r\u001b[K     |██▍                             | 30 kB 8.0 MB/s eta 0:00:01\r\u001b[K     |███▏                            | 40 kB 7.3 MB/s eta 0:00:01\r\u001b[K     |████                            | 51 kB 4.0 MB/s eta 0:00:01\r\u001b[K     |████▊                           | 61 kB 4.3 MB/s eta 0:00:01\r\u001b[K     |█████▋                          | 71 kB 4.4 MB/s eta 0:00:01\r\u001b[K     |██████▍                         | 81 kB 4.9 MB/s eta 0:00:01\r\u001b[K     |███████▏                        | 92 kB 3.8 MB/s eta 0:00:01\r\u001b[K     |████████                        | 102 kB 4.1 MB/s eta 0:00:01\r\u001b[K     |████████▊                       | 112 kB 4.1 MB/s eta 0:00:01\r\u001b[K     |█████████▌                      | 122 kB 4.1 MB/s eta 0:00:01\r\u001b[K     |██████████▍                     | 133 kB 4.1 MB/s eta 0:00:01\r\u001b[K     |███████████▏                    | 143 kB 4.1 MB/s eta 0:00:01\r\u001b[K     |████████████                    | 153 kB 4.1 MB/s eta 0:00:01\r\u001b[K     |████████████▊                   | 163 kB 4.1 MB/s eta 0:00:01\r\u001b[K     |█████████████▌                  | 174 kB 4.1 MB/s eta 0:00:01\r\u001b[K     |██████████████▎                 | 184 kB 4.1 MB/s eta 0:00:01\r\u001b[K     |███████████████                 | 194 kB 4.1 MB/s eta 0:00:01\r\u001b[K     |████████████████                | 204 kB 4.1 MB/s eta 0:00:01\r\u001b[K     |████████████████▊               | 215 kB 4.1 MB/s eta 0:00:01\r\u001b[K     |█████████████████▌              | 225 kB 4.1 MB/s eta 0:00:01\r\u001b[K     |██████████████████▎             | 235 kB 4.1 MB/s eta 0:00:01\r\u001b[K     |███████████████████             | 245 kB 4.1 MB/s eta 0:00:01\r\u001b[K     |███████████████████▉            | 256 kB 4.1 MB/s eta 0:00:01\r\u001b[K     |████████████████████▊           | 266 kB 4.1 MB/s eta 0:00:01\r\u001b[K     |█████████████████████▌          | 276 kB 4.1 MB/s eta 0:00:01\r\u001b[K     |██████████████████████▎         | 286 kB 4.1 MB/s eta 0:00:01\r\u001b[K     |███████████████████████         | 296 kB 4.1 MB/s eta 0:00:01\r\u001b[K     |███████████████████████▉        | 307 kB 4.1 MB/s eta 0:00:01\r\u001b[K     |████████████████████████▋       | 317 kB 4.1 MB/s eta 0:00:01\r\u001b[K     |█████████████████████████▍      | 327 kB 4.1 MB/s eta 0:00:01\r\u001b[K     |██████████████████████████▎     | 337 kB 4.1 MB/s eta 0:00:01\r\u001b[K     |███████████████████████████     | 348 kB 4.1 MB/s eta 0:00:01\r\u001b[K     |███████████████████████████▉    | 358 kB 4.1 MB/s eta 0:00:01\r\u001b[K     |████████████████████████████▋   | 368 kB 4.1 MB/s eta 0:00:01\r\u001b[K     |█████████████████████████████▍  | 378 kB 4.1 MB/s eta 0:00:01\r\u001b[K     |██████████████████████████████▏ | 389 kB 4.1 MB/s eta 0:00:01\r\u001b[K     |███████████████████████████████ | 399 kB 4.1 MB/s eta 0:00:01\r\u001b[K     |███████████████████████████████▉| 409 kB 4.1 MB/s eta 0:00:01\r\u001b[K     |████████████████████████████████| 412 kB 4.1 MB/s \n",
            "\u001b[?25hInstalling collected packages: tld\n",
            "Successfully installed tld-0.12.6\n",
            "Collecting pandas==1.0.5\n",
            "  Downloading pandas-1.0.5-cp37-cp37m-manylinux1_x86_64.whl (10.1 MB)\n",
            "\u001b[K     |████████████████████████████████| 10.1 MB 3.8 MB/s \n",
            "\u001b[?25hRequirement already satisfied: pytz>=2017.2 in /usr/local/lib/python3.7/dist-packages (from pandas==1.0.5) (2018.9)\n",
            "Requirement already satisfied: python-dateutil>=2.6.1 in /usr/local/lib/python3.7/dist-packages (from pandas==1.0.5) (2.8.2)\n",
            "Requirement already satisfied: numpy>=1.13.3 in /usr/local/lib/python3.7/dist-packages (from pandas==1.0.5) (1.19.5)\n",
            "Requirement already satisfied: six>=1.5 in /usr/local/lib/python3.7/dist-packages (from python-dateutil>=2.6.1->pandas==1.0.5) (1.15.0)\n",
            "Installing collected packages: pandas\n",
            "  Attempting uninstall: pandas\n",
            "    Found existing installation: pandas 1.1.5\n",
            "    Uninstalling pandas-1.1.5:\n",
            "      Successfully uninstalled pandas-1.1.5\n",
            "\u001b[31mERROR: pip's dependency resolver does not currently take into account all the packages that are installed. This behaviour is the source of the following dependency conflicts.\n",
            "google-colab 1.0.0 requires pandas~=1.1.0; python_version >= \"3.0\", but you have pandas 1.0.5 which is incompatible.\u001b[0m\n",
            "Successfully installed pandas-1.0.5\n"
          ]
        },
        {
          "output_type": "display_data",
          "data": {
            "application/vnd.colab-display-data+json": {
              "pip_warning": {
                "packages": [
                  "pandas"
                ]
              }
            }
          },
          "metadata": {}
        }
      ]
    },
    {
      "cell_type": "code",
      "metadata": {
        "id": "t7KGyI68ZyAx"
      },
      "source": [
        "# Imports you may need\n",
        "import seaborn as sns\n",
        "from IPython.display import display, HTML\n",
        "import matplotlib.pyplot as plt\n",
        "import scipy.stats as stats\n",
        "import pandas as pd\n",
        "import numpy as np\n",
        "from tld import get_tld\n",
        "from ast import literal_eval"
      ],
      "execution_count": 1,
      "outputs": []
    },
    {
      "cell_type": "code",
      "metadata": {
        "colab": {
          "base_uri": "https://localhost:8080/",
          "height": 520
        },
        "id": "Z82Lt0ziW63Z",
        "outputId": "88455acf-31b7-4a99-fae5-e8c7d11f5768"
      },
      "source": [
        "incre = 0\n",
        "for chunk in pd.read_csv('/content/drive/MyDrive/ada-sports-quotes/sport-quotes-2020.csv.bz2', compression='bz2', converters={'urls': literal_eval}, chunksize=100000):\n",
        "  incre += 1\n",
        "  if incre > 5 :\n",
        "    break\n",
        "  sources = []\n",
        "  chunk.head()\n",
        "  for urls in chunk.urls:\n",
        "    for url in urls:\n",
        "      res = get_tld(url, as_object=True)\n",
        "      sources.append(res.domain)\n",
        "  dfsources = pd.DataFrame()\n",
        "  dfsources['label'] = sources\n",
        "  dfsources = dfsources.groupby(dfsources.label).size().reset_index(name='counts')\n",
        "  #print(dfsources.sort_values('counts'))\n",
        "  #plt.figure()\n",
        "  #sns.histplot(dfsources)\n",
        "  if incre == 1:\n",
        "    ranking = test\n",
        "  else:\n",
        "    ranking = ranking.merge(dfsources, on='label', how='outer').fillna(0)\n",
        "    ranking['counts'] = ranking.counts_x + ranking.counts_y\n",
        "    ranking = ranking.drop(columns=['counts_x','counts_y'])\n",
        "print(ranking.sort_values('counts'))\n",
        "sns.histplot(ranking,log_scale=[False,True])\n",
        "print(ranking.shape[0])"
      ],
      "execution_count": 162,
      "outputs": [
        {
          "output_type": "stream",
          "name": "stdout",
          "text": [
            "           label   counts\n",
            "4463     yubanet      1.0\n",
            "4032        wjon      1.0\n",
            "4031        witf      1.0\n",
            "2510  emorywheel      1.0\n",
            "4027        whby      1.0\n",
            "...          ...      ...\n",
            "912         krmg  21992.0\n",
            "2032        wokv  27086.0\n",
            "1107         msn  32412.0\n",
            "1187     news965  36783.0\n",
            "1160   nbcsports  46411.0\n",
            "\n",
            "[4464 rows x 2 columns]\n",
            "4464\n"
          ]
        },
        {
          "output_type": "display_data",
          "data": {
            "image/png": "[encoded data removed]",
            "text/plain": [
              "<Figure size 432x288 with 1 Axes>"
            ]
          },
          "metadata": {
            "needs_background": "light"
          }
        }
      ]
    },
    {
      "cell_type": "markdown",
      "metadata": {
        "id": "AXJpB8MAi8Da"
      },
      "source": [
        "**Attention en dessoous c'est juste moi qui try-hard pour comprendre petit à petit ce qui cloche !**"
      ]
    },
    {
      "cell_type": "code",
      "metadata": {
        "colab": {
          "base_uri": "https://localhost:8080/"
        },
        "id": "iXCwFr7LXSZe",
        "outputId": "4eb010c1-4667-4ef3-aac2-7eea82bd4c1f"
      },
      "source": [
        "sum(ranking.counts)"
      ],
      "execution_count": 163,
      "outputs": [
        {
          "output_type": "execute_result",
          "data": {
            "text/plain": [
              "2131874.0"
            ]
          },
          "metadata": {},
          "execution_count": 163
        }
      ]
    },
    {
      "cell_type": "code",
      "metadata": {
        "colab": {
          "base_uri": "https://localhost:8080/",
          "height": 306
        },
        "id": "BLjj3N7IZDVR",
        "outputId": "ef8908bf-6465-4c99-faca-bb701d0d9494"
      },
      "source": [
        "ranking = ranking.merge(test, on='label', how='outer').fillna(0)"
      ],
      "execution_count": 148,
      "outputs": [
        {
          "output_type": "error",
          "ename": "KeyError",
          "evalue": "ignored",
          "traceback": [
            "\u001b[0;31m---------------------------------------------------------------------------\u001b[0m",
            "\u001b[0;31mKeyError\u001b[0m                                  Traceback (most recent call last)",
            "\u001b[0;32m<ipython-input-148-70d53c3d6081>\u001b[0m in \u001b[0;36m<module>\u001b[0;34m()\u001b[0m\n\u001b[0;32m----> 1\u001b[0;31m \u001b[0mranking\u001b[0m \u001b[0;34m=\u001b[0m \u001b[0mranking\u001b[0m\u001b[0;34m.\u001b[0m\u001b[0mmerge\u001b[0m\u001b[0;34m(\u001b[0m\u001b[0mtest\u001b[0m\u001b[0;34m,\u001b[0m \u001b[0mon\u001b[0m\u001b[0;34m=\u001b[0m\u001b[0;34m'label'\u001b[0m\u001b[0;34m,\u001b[0m \u001b[0mhow\u001b[0m\u001b[0;34m=\u001b[0m\u001b[0;34m'outer'\u001b[0m\u001b[0;34m)\u001b[0m\u001b[0;34m.\u001b[0m\u001b[0mfillna\u001b[0m\u001b[0;34m(\u001b[0m\u001b[0;36m0\u001b[0m\u001b[0;34m)\u001b[0m\u001b[0;34m\u001b[0m\u001b[0;34m\u001b[0m\u001b[0m\n\u001b[0m",
            "\u001b[0;32m/usr/local/lib/python3.7/dist-packages/pandas/core/frame.py\u001b[0m in \u001b[0;36mmerge\u001b[0;34m(self, right, how, on, left_on, right_on, left_index, right_index, sort, suffixes, copy, indicator, validate)\u001b[0m\n\u001b[1;32m   7295\u001b[0m             \u001b[0mcopy\u001b[0m\u001b[0;34m=\u001b[0m\u001b[0mcopy\u001b[0m\u001b[0;34m,\u001b[0m\u001b[0;34m\u001b[0m\u001b[0;34m\u001b[0m\u001b[0m\n\u001b[1;32m   7296\u001b[0m             \u001b[0mindicator\u001b[0m\u001b[0;34m=\u001b[0m\u001b[0mindicator\u001b[0m\u001b[0;34m,\u001b[0m\u001b[0;34m\u001b[0m\u001b[0;34m\u001b[0m\u001b[0m\n\u001b[0;32m-> 7297\u001b[0;31m             \u001b[0mvalidate\u001b[0m\u001b[0;34m=\u001b[0m\u001b[0mvalidate\u001b[0m\u001b[0;34m,\u001b[0m\u001b[0;34m\u001b[0m\u001b[0;34m\u001b[0m\u001b[0m\n\u001b[0m\u001b[1;32m   7298\u001b[0m         )\n\u001b[1;32m   7299\u001b[0m \u001b[0;34m\u001b[0m\u001b[0m\n",
            "\u001b[0;32m/usr/local/lib/python3.7/dist-packages/pandas/core/reshape/merge.py\u001b[0m in \u001b[0;36mmerge\u001b[0;34m(left, right, how, on, left_on, right_on, left_index, right_index, sort, suffixes, copy, indicator, validate)\u001b[0m\n\u001b[1;32m     84\u001b[0m         \u001b[0mcopy\u001b[0m\u001b[0;34m=\u001b[0m\u001b[0mcopy\u001b[0m\u001b[0;34m,\u001b[0m\u001b[0;34m\u001b[0m\u001b[0;34m\u001b[0m\u001b[0m\n\u001b[1;32m     85\u001b[0m         \u001b[0mindicator\u001b[0m\u001b[0;34m=\u001b[0m\u001b[0mindicator\u001b[0m\u001b[0;34m,\u001b[0m\u001b[0;34m\u001b[0m\u001b[0;34m\u001b[0m\u001b[0m\n\u001b[0;32m---> 86\u001b[0;31m         \u001b[0mvalidate\u001b[0m\u001b[0;34m=\u001b[0m\u001b[0mvalidate\u001b[0m\u001b[0;34m,\u001b[0m\u001b[0;34m\u001b[0m\u001b[0;34m\u001b[0m\u001b[0m\n\u001b[0m\u001b[1;32m     87\u001b[0m     )\n\u001b[1;32m     88\u001b[0m     \u001b[0;32mreturn\u001b[0m \u001b[0mop\u001b[0m\u001b[0;34m.\u001b[0m\u001b[0mget_result\u001b[0m\u001b[0;34m(\u001b[0m\u001b[0;34m)\u001b[0m\u001b[0;34m\u001b[0m\u001b[0;34m\u001b[0m\u001b[0m\n",
            "\u001b[0;32m/usr/local/lib/python3.7/dist-packages/pandas/core/reshape/merge.py\u001b[0m in \u001b[0;36m__init__\u001b[0;34m(self, left, right, how, on, left_on, right_on, axis, left_index, right_index, sort, suffixes, copy, indicator, validate)\u001b[0m\n\u001b[1;32m    625\u001b[0m             \u001b[0mself\u001b[0m\u001b[0;34m.\u001b[0m\u001b[0mright_join_keys\u001b[0m\u001b[0;34m,\u001b[0m\u001b[0;34m\u001b[0m\u001b[0;34m\u001b[0m\u001b[0m\n\u001b[1;32m    626\u001b[0m             \u001b[0mself\u001b[0m\u001b[0;34m.\u001b[0m\u001b[0mjoin_names\u001b[0m\u001b[0;34m,\u001b[0m\u001b[0;34m\u001b[0m\u001b[0;34m\u001b[0m\u001b[0m\n\u001b[0;32m--> 627\u001b[0;31m         ) = self._get_merge_keys()\n\u001b[0m\u001b[1;32m    628\u001b[0m \u001b[0;34m\u001b[0m\u001b[0m\n\u001b[1;32m    629\u001b[0m         \u001b[0;31m# validate the merge keys dtypes. We may need to coerce\u001b[0m\u001b[0;34m\u001b[0m\u001b[0;34m\u001b[0m\u001b[0;34m\u001b[0m\u001b[0m\n",
            "\u001b[0;32m/usr/local/lib/python3.7/dist-packages/pandas/core/reshape/merge.py\u001b[0m in \u001b[0;36m_get_merge_keys\u001b[0;34m(self)\u001b[0m\n\u001b[1;32m    994\u001b[0m                         \u001b[0mright_keys\u001b[0m\u001b[0;34m.\u001b[0m\u001b[0mappend\u001b[0m\u001b[0;34m(\u001b[0m\u001b[0mrk\u001b[0m\u001b[0;34m)\u001b[0m\u001b[0;34m\u001b[0m\u001b[0;34m\u001b[0m\u001b[0m\n\u001b[1;32m    995\u001b[0m                     \u001b[0;32mif\u001b[0m \u001b[0mlk\u001b[0m \u001b[0;32mis\u001b[0m \u001b[0;32mnot\u001b[0m \u001b[0;32mNone\u001b[0m\u001b[0;34m:\u001b[0m\u001b[0;34m\u001b[0m\u001b[0;34m\u001b[0m\u001b[0m\n\u001b[0;32m--> 996\u001b[0;31m                         \u001b[0mleft_keys\u001b[0m\u001b[0;34m.\u001b[0m\u001b[0mappend\u001b[0m\u001b[0;34m(\u001b[0m\u001b[0mleft\u001b[0m\u001b[0;34m.\u001b[0m\u001b[0m_get_label_or_level_values\u001b[0m\u001b[0;34m(\u001b[0m\u001b[0mlk\u001b[0m\u001b[0;34m)\u001b[0m\u001b[0;34m)\u001b[0m\u001b[0;34m\u001b[0m\u001b[0;34m\u001b[0m\u001b[0m\n\u001b[0m\u001b[1;32m    997\u001b[0m                         \u001b[0mjoin_names\u001b[0m\u001b[0;34m.\u001b[0m\u001b[0mappend\u001b[0m\u001b[0;34m(\u001b[0m\u001b[0mlk\u001b[0m\u001b[0;34m)\u001b[0m\u001b[0;34m\u001b[0m\u001b[0;34m\u001b[0m\u001b[0m\n\u001b[1;32m    998\u001b[0m                     \u001b[0;32melse\u001b[0m\u001b[0;34m:\u001b[0m\u001b[0;34m\u001b[0m\u001b[0;34m\u001b[0m\u001b[0m\n",
            "\u001b[0;32m/usr/local/lib/python3.7/dist-packages/pandas/core/generic.py\u001b[0m in \u001b[0;36m_get_label_or_level_values\u001b[0;34m(self, key, axis)\u001b[0m\n\u001b[1;32m   1690\u001b[0m             \u001b[0mvalues\u001b[0m \u001b[0;34m=\u001b[0m \u001b[0mself\u001b[0m\u001b[0;34m.\u001b[0m\u001b[0maxes\u001b[0m\u001b[0;34m[\u001b[0m\u001b[0maxis\u001b[0m\u001b[0;34m]\u001b[0m\u001b[0;34m.\u001b[0m\u001b[0mget_level_values\u001b[0m\u001b[0;34m(\u001b[0m\u001b[0mkey\u001b[0m\u001b[0;34m)\u001b[0m\u001b[0;34m.\u001b[0m\u001b[0m_values\u001b[0m\u001b[0;34m\u001b[0m\u001b[0;34m\u001b[0m\u001b[0m\n\u001b[1;32m   1691\u001b[0m         \u001b[0;32melse\u001b[0m\u001b[0;34m:\u001b[0m\u001b[0;34m\u001b[0m\u001b[0;34m\u001b[0m\u001b[0m\n\u001b[0;32m-> 1692\u001b[0;31m             \u001b[0;32mraise\u001b[0m \u001b[0mKeyError\u001b[0m\u001b[0;34m(\u001b[0m\u001b[0mkey\u001b[0m\u001b[0;34m)\u001b[0m\u001b[0;34m\u001b[0m\u001b[0;34m\u001b[0m\u001b[0m\n\u001b[0m\u001b[1;32m   1693\u001b[0m \u001b[0;34m\u001b[0m\u001b[0m\n\u001b[1;32m   1694\u001b[0m         \u001b[0;31m# Check for duplicates\u001b[0m\u001b[0;34m\u001b[0m\u001b[0;34m\u001b[0m\u001b[0;34m\u001b[0m\u001b[0m\n",
            "\u001b[0;31mKeyError\u001b[0m: 'label'"
          ]
        }
      ]
    },
    {
      "cell_type": "code",
      "metadata": {
        "id": "d_o7lmL9c3Wo"
      },
      "source": [
        "ranking = pd.DataFrame()"
      ],
      "execution_count": 147,
      "outputs": []
    },
    {
      "cell_type": "code",
      "metadata": {
        "id": "4UcvGY0VaLYW"
      },
      "source": [
        "test3['counts'] = test3.counts_x + test3.counts_y"
      ],
      "execution_count": 134,
      "outputs": []
    },
    {
      "cell_type": "code",
      "metadata": {
        "colab": {
          "base_uri": "https://localhost:8080/",
          "height": 419
        },
        "id": "UnKsjeMkayuf",
        "outputId": "c523cf15-50bb-4080-dfaf-b652742c8cf1"
      },
      "source": [
        "test3.drop(columns=['counts_x','counts_y'])"
      ],
      "execution_count": 138,
      "outputs": [
        {
          "output_type": "execute_result",
          "data": {
            "text/html": [
              "<div>\n",
              "<style scoped>\n",
              "    .dataframe tbody tr th:only-of-type {\n",
              "        vertical-align: middle;\n",
              "    }\n",
              "\n",
              "    .dataframe tbody tr th {\n",
              "        vertical-align: top;\n",
              "    }\n",
              "\n",
              "    .dataframe thead th {\n",
              "        text-align: right;\n",
              "    }\n",
              "</style>\n",
              "<table border=\"1\" class=\"dataframe\">\n",
              "  <thead>\n",
              "    <tr style=\"text-align: right;\">\n",
              "      <th></th>\n",
              "      <th>label</th>\n",
              "      <th>counts</th>\n",
              "      <th>countis</th>\n",
              "    </tr>\n",
              "  </thead>\n",
              "  <tbody>\n",
              "    <tr>\n",
              "      <th>0</th>\n",
              "      <td>1011now</td>\n",
              "      <td>NaN</td>\n",
              "      <td>NaN</td>\n",
              "    </tr>\n",
              "    <tr>\n",
              "      <th>1</th>\n",
              "      <td>10news</td>\n",
              "      <td>5.0</td>\n",
              "      <td>5.0</td>\n",
              "    </tr>\n",
              "    <tr>\n",
              "      <th>2</th>\n",
              "      <td>13abc</td>\n",
              "      <td>3.0</td>\n",
              "      <td>3.0</td>\n",
              "    </tr>\n",
              "    <tr>\n",
              "      <th>3</th>\n",
              "      <td>14news</td>\n",
              "      <td>3.0</td>\n",
              "      <td>3.0</td>\n",
              "    </tr>\n",
              "    <tr>\n",
              "      <th>4</th>\n",
              "      <td>15rounds</td>\n",
              "      <td>4.0</td>\n",
              "      <td>4.0</td>\n",
              "    </tr>\n",
              "    <tr>\n",
              "      <th>...</th>\n",
              "      <td>...</td>\n",
              "      <td>...</td>\n",
              "      <td>...</td>\n",
              "    </tr>\n",
              "    <tr>\n",
              "      <th>2590</th>\n",
              "      <td>wuft</td>\n",
              "      <td>NaN</td>\n",
              "      <td>NaN</td>\n",
              "    </tr>\n",
              "    <tr>\n",
              "      <th>2591</th>\n",
              "      <td>wustl</td>\n",
              "      <td>NaN</td>\n",
              "      <td>NaN</td>\n",
              "    </tr>\n",
              "    <tr>\n",
              "      <th>2592</th>\n",
              "      <td>wvmetronews</td>\n",
              "      <td>NaN</td>\n",
              "      <td>NaN</td>\n",
              "    </tr>\n",
              "    <tr>\n",
              "      <th>2593</th>\n",
              "      <td>wvva</td>\n",
              "      <td>NaN</td>\n",
              "      <td>NaN</td>\n",
              "    </tr>\n",
              "    <tr>\n",
              "      <th>2594</th>\n",
              "      <td>wyrk</td>\n",
              "      <td>NaN</td>\n",
              "      <td>NaN</td>\n",
              "    </tr>\n",
              "  </tbody>\n",
              "</table>\n",
              "<p>2595 rows × 3 columns</p>\n",
              "</div>"
            ],
            "text/plain": [
              "            label  counts  countis\n",
              "0         1011now     NaN      NaN\n",
              "1          10news     5.0      5.0\n",
              "2           13abc     3.0      3.0\n",
              "3          14news     3.0      3.0\n",
              "4        15rounds     4.0      4.0\n",
              "...           ...     ...      ...\n",
              "2590         wuft     NaN      NaN\n",
              "2591        wustl     NaN      NaN\n",
              "2592  wvmetronews     NaN      NaN\n",
              "2593         wvva     NaN      NaN\n",
              "2594         wyrk     NaN      NaN\n",
              "\n",
              "[2595 rows x 3 columns]"
            ]
          },
          "metadata": {},
          "execution_count": 138
        }
      ]
    },
    {
      "cell_type": "code",
      "metadata": {
        "colab": {
          "base_uri": "https://localhost:8080/",
          "height": 419
        },
        "id": "CH8QuMiGcH3O",
        "outputId": "9b3b79c3-3926-4344-d985-0ede2afac232"
      },
      "source": [
        "test3"
      ],
      "execution_count": 140,
      "outputs": [
        {
          "output_type": "execute_result",
          "data": {
            "text/html": [
              "<div>\n",
              "<style scoped>\n",
              "    .dataframe tbody tr th:only-of-type {\n",
              "        vertical-align: middle;\n",
              "    }\n",
              "\n",
              "    .dataframe tbody tr th {\n",
              "        vertical-align: top;\n",
              "    }\n",
              "\n",
              "    .dataframe thead th {\n",
              "        text-align: right;\n",
              "    }\n",
              "</style>\n",
              "<table border=\"1\" class=\"dataframe\">\n",
              "  <thead>\n",
              "    <tr style=\"text-align: right;\">\n",
              "      <th></th>\n",
              "      <th>label</th>\n",
              "      <th>counts_x</th>\n",
              "      <th>counts_y</th>\n",
              "    </tr>\n",
              "  </thead>\n",
              "  <tbody>\n",
              "    <tr>\n",
              "      <th>0</th>\n",
              "      <td>1011now</td>\n",
              "      <td>1.0</td>\n",
              "      <td>NaN</td>\n",
              "    </tr>\n",
              "    <tr>\n",
              "      <th>1</th>\n",
              "      <td>10news</td>\n",
              "      <td>3.0</td>\n",
              "      <td>2.0</td>\n",
              "    </tr>\n",
              "    <tr>\n",
              "      <th>2</th>\n",
              "      <td>13abc</td>\n",
              "      <td>2.0</td>\n",
              "      <td>1.0</td>\n",
              "    </tr>\n",
              "    <tr>\n",
              "      <th>3</th>\n",
              "      <td>14news</td>\n",
              "      <td>1.0</td>\n",
              "      <td>2.0</td>\n",
              "    </tr>\n",
              "    <tr>\n",
              "      <th>4</th>\n",
              "      <td>15rounds</td>\n",
              "      <td>3.0</td>\n",
              "      <td>1.0</td>\n",
              "    </tr>\n",
              "    <tr>\n",
              "      <th>...</th>\n",
              "      <td>...</td>\n",
              "      <td>...</td>\n",
              "      <td>...</td>\n",
              "    </tr>\n",
              "    <tr>\n",
              "      <th>2590</th>\n",
              "      <td>wuft</td>\n",
              "      <td>NaN</td>\n",
              "      <td>1.0</td>\n",
              "    </tr>\n",
              "    <tr>\n",
              "      <th>2591</th>\n",
              "      <td>wustl</td>\n",
              "      <td>NaN</td>\n",
              "      <td>1.0</td>\n",
              "    </tr>\n",
              "    <tr>\n",
              "      <th>2592</th>\n",
              "      <td>wvmetronews</td>\n",
              "      <td>NaN</td>\n",
              "      <td>1.0</td>\n",
              "    </tr>\n",
              "    <tr>\n",
              "      <th>2593</th>\n",
              "      <td>wvva</td>\n",
              "      <td>NaN</td>\n",
              "      <td>3.0</td>\n",
              "    </tr>\n",
              "    <tr>\n",
              "      <th>2594</th>\n",
              "      <td>wyrk</td>\n",
              "      <td>NaN</td>\n",
              "      <td>1.0</td>\n",
              "    </tr>\n",
              "  </tbody>\n",
              "</table>\n",
              "<p>2595 rows × 3 columns</p>\n",
              "</div>"
            ],
            "text/plain": [
              "            label  counts_x  counts_y\n",
              "0         1011now       1.0       NaN\n",
              "1          10news       3.0       2.0\n",
              "2           13abc       2.0       1.0\n",
              "3          14news       1.0       2.0\n",
              "4        15rounds       3.0       1.0\n",
              "...           ...       ...       ...\n",
              "2590         wuft       NaN       1.0\n",
              "2591        wustl       NaN       1.0\n",
              "2592  wvmetronews       NaN       1.0\n",
              "2593         wvva       NaN       3.0\n",
              "2594         wyrk       NaN       1.0\n",
              "\n",
              "[2595 rows x 3 columns]"
            ]
          },
          "metadata": {},
          "execution_count": 140
        }
      ]
    },
    {
      "cell_type": "code",
      "metadata": {
        "colab": {
          "base_uri": "https://localhost:8080/",
          "height": 989
        },
        "id": "-DbrNE1-PmH6",
        "outputId": "2e89ba93-71b7-45a0-acda-f6107fde7dbc"
      },
      "source": [
        "incre = 0\n",
        "for chunk in pd.read_json('/content/drive/MyDrive/Quotebank/quotes-2020.json.bz2', lines=True, compression='bz2', chunksize=10000):\n",
        "  incre += 1\n",
        "  if incre > 2 :\n",
        "    break\n",
        "  sports_quotes = chunk[[any('sport' in url for url in url_list) for url_list in chunk.urls]]\n",
        "  sources = []\n",
        "  for urls in sports_quotes.urls:\n",
        "    for url in urls:\n",
        "      res = get_tld(url, as_object=True)\n",
        "      sources.append(res.domain)\n",
        "  dfsources = pd.DataFrame()\n",
        "  dfsources['label'] = sources\n",
        "  test = dfsources.groupby(dfsources.label).size().reset_index(name='counts')\n",
        "  print(test.sort_values('counts'))\n",
        "  plt.figure()\n",
        "  sns.histplot(test)\n"
      ],
      "execution_count": 113,
      "outputs": [
        {
          "output_type": "stream",
          "name": "stdout",
          "text": [
            "                 label  counts\n",
            "469      medicalxpress       1\n",
            "343          hoopshype       1\n",
            "342  hollywoodreporter       1\n",
            "739              the72       1\n",
            "337     heraldscotland       1\n",
            "..                 ...     ...\n",
            "833        tradingroom      37\n",
            "534             newsok      39\n",
            "654          skysports      53\n",
            "493                msn     113\n",
            "512          nbcsports     119\n",
            "\n",
            "[940 rows x 2 columns]\n",
            "              label  counts\n",
            "482  montereyherald       1\n",
            "477           mix96       1\n",
            "474      miragenews       1\n",
            "471  milehighsports       1\n",
            "470  milehighreport       1\n",
            "..              ...     ...\n",
            "725             stv      48\n",
            "525         news965      58\n",
            "232       eurosport      77\n",
            "509       nbcsports     146\n",
            "401            krmg     225\n",
            "\n",
            "[965 rows x 2 columns]\n"
          ]
        },
        {
          "output_type": "display_data",
          "data": {
            "image/png": "[encoded data removed]",
            "text/plain": [
              "<Figure size 432x288 with 1 Axes>"
            ]
          },
          "metadata": {
            "needs_background": "light"
          }
        },
        {
          "output_type": "display_data",
          "data": {
            "image/png": "[encoded data removed]",
            "text/plain": [
              "<Figure size 432x288 with 1 Axes>"
            ]
          },
          "metadata": {
            "needs_background": "light"
          }
        }
      ]
    },
    {
      "cell_type": "code",
      "metadata": {
        "id": "-eQ7KQy11348"
      },
      "source": [
        "urllist = chunk.urls"
      ],
      "execution_count": 87,
      "outputs": []
    },
    {
      "cell_type": "code",
      "metadata": {
        "colab": {
          "base_uri": "https://localhost:8080/",
          "height": 266
        },
        "id": "0nt3873I1miX",
        "outputId": "33540e63-57ae-4a0d-aa72-1af383c5b2d4"
      },
      "source": [
        "incre = 0\n",
        "for chunk in pd.read_csv('/content/drive/MyDrive/ada-sports-quotes/sport-quotes-2020.csv.bz2', compression='bz2', converters={'urls': literal_eval}, chunksize=100):\n",
        "  incre += 1\n",
        "  if incre > 1 :\n",
        "    break\n",
        "  sources = []\n",
        "  chunk.head()\n",
        "  for urls in chunk.urls:\n",
        "    for url in urls:\n",
        "      res = get_tld(url, as_object=True)\n",
        "      sources.append(res.domain)\n",
        "  dfsources = pd.DataFrame()\n",
        "  dfsources['label'] = sources\n",
        "  test = dfsources.groupby(dfsources.label).size().reset_index(name='counts')\n",
        "  sns.histplot(test)"
      ],
      "execution_count": 119,
      "outputs": [
        {
          "output_type": "display_data",
          "data": {
            "image/png": "[encoded data removed]",
            "text/plain": [
              "<Figure size 432x288 with 1 Axes>"
            ]
          },
          "metadata": {
            "needs_background": "light"
          }
        }
      ]
    },
    {
      "cell_type": "code",
      "metadata": {
        "colab": {
          "base_uri": "https://localhost:8080/"
        },
        "id": "UcdoB7Tn3j0e",
        "outputId": "4e485c57-9078-41db-9b62-2d8f91a2d2f1"
      },
      "source": [
        "incre = 0\n",
        "for testUrl in chunk.urls:\n",
        "  print(testUrl)\n",
        "  if incre > 5:\n",
        "    break\n",
        "  incre += 1"
      ],
      "execution_count": 104,
      "outputs": [
        {
          "output_type": "stream",
          "name": "stdout",
          "text": [
            "['http://home.nzcity.co.nz/nl.aspx?4422414', 'http://m.nzherald.co.nz/nz/news/article.cfm?c_id=1&objectid=12299066', 'http://nzherald.co.nz/nz/news/article.cfm?c_id=1&objectid=12299066']\n",
            "['https://www.dailystar.co.uk/showbiz/breaking-phillip-scofield-defends-ruth-21453590', 'https://www.dailystar.co.uk/showbiz/phillip-schofield-wanted-know-how-21455187']\n",
            "['http://delmarvapublicradio.net/post/police-offering-drug-recovery-help-we-cant-arrest-our-way-out-problem', 'http://iowapublicradio.org/post/police-offering-drug-recovery-help-we-cant-arrest-our-way-out-problem', 'http://kazu.org/post/police-offering-drug-recovery-help-we-cant-arrest-our-way-out-problem', 'http://ketr.org/post/police-offering-drug-recovery-help-we-cant-arrest-our-way-out-problem', 'http://klcc.org/post/police-offering-drug-recovery-help-we-cant-arrest-our-way-out-problem', 'http://mpbn.net/post/police-offering-drug-recovery-help-we-cant-arrest-our-way-out-problem', 'http://news.wjct.org/post/police-offering-drug-recovery-help-we-cant-arrest-our-way-out-problem', 'http://peconicpublicbroadcasting.org/post/police-offering-drug-recovery-help-we-cant-arrest-our-way-out-problem', 'http://peoriapublicradio.org/post/police-offering-drug-recovery-help-we-cant-arrest-our-way-out-problem', 'http://wcqs.org/post/police-offering-drug-recovery-help-we-cant-arrest-our-way-out-problem', 'http://wdiy.org/post/police-offering-drug-recovery-help-we-cant-arrest-our-way-out-problem', 'http://wemu.org/post/police-offering-drug-recovery-help-we-cant-arrest-our-way-out-problem', 'http://wmra.org/post/police-offering-drug-recovery-help-we-cant-arrest-our-way-out-problem', 'http://wnmufm.org/post/police-offering-drug-recovery-help-we-cant-arrest-our-way-out-problem', 'http://wuwf.org/post/police-offering-drug-recovery-help-we-cant-arrest-our-way-out-problem', 'http://www.kbia.org/post/police-offering-drug-recovery-help-we-cant-arrest-our-way-out-problem', 'http://www.kios.org/post/police-offering-drug-recovery-help-we-cant-arrest-our-way-out-problem', 'http://www.ksmu.org/post/police-offering-drug-recovery-help-we-cant-arrest-our-way-out-problem', 'http://www.kuer.org/post/police-offering-drug-recovery-help-we-cant-arrest-our-way-out-problem', 'http://www.wcbe.org/post/police-offering-drug-recovery-help-we-cant-arrest-our-way-out-problem', 'http://wxxinews.org/post/police-offering-drug-recovery-help-we-cant-arrest-our-way-out-problem', 'https://www.apr.org/post/police-offering-drug-recovery-help-we-cant-arrest-our-way-out-problem', 'https://www.ijpr.org/post/police-offering-drug-recovery-help-we-cant-arrest-our-way-out-problem', 'https://www.kenw.org/post/police-offering-drug-recovery-help-we-cant-arrest-our-way-out-problem', 'https://www.keranews.org/post/police-offering-drug-recovery-help-we-cant-arrest-our-way-out-problem', 'https://www.kgou.org/post/police-offering-drug-recovery-help-we-cant-arrest-our-way-out-problem', 'https://www.krcu.org/post/police-offering-drug-recovery-help-we-cant-arrest-our-way-out-problem', 'https://www.krwg.org/post/police-offering-drug-recovery-help-we-cant-arrest-our-way-out-problem', 'https://www.ktep.org/post/police-offering-drug-recovery-help-we-cant-arrest-our-way-out-problem', 'https://www.kunm.org/post/police-offering-drug-recovery-help-we-cant-arrest-our-way-out-problem', 'https://www.northernpublicradio.org/post/police-offering-drug-recovery-help-we-cant-arrest-our-way-out-problem', 'https://www.tpr.org/post/police-offering-drug-recovery-help-we-cant-arrest-our-way-out-problem', 'https://www.ualrpublicradio.org/post/police-offering-drug-recovery-help-we-cant-arrest-our-way-out-problem', 'https://www.upr.org/post/police-offering-drug-recovery-help-we-cant-arrest-our-way-out-problem', 'https://www.wbaa.org/post/police-offering-drug-recovery-help-we-cant-arrest-our-way-out-problem', 'https://www.wbgo.org/post/police-offering-drug-recovery-help-we-cant-arrest-our-way-out-problem', 'https://www.wboi.org/post/police-offering-drug-recovery-help-we-cant-arrest-our-way-out-problem', 'https://www.wesm913.org/post/police-offering-drug-recovery-help-we-cant-arrest-our-way-out-problem', 'https://www.wfae.org/post/police-offering-drug-recovery-help-we-cant-arrest-our-way-out-problem', 'https://www.wkar.org/post/police-offering-drug-recovery-help-we-cant-arrest-our-way-out-problem', 'https://www.wknofm.org/post/police-offering-drug-recovery-help-we-cant-arrest-our-way-out-problem', 'https://www.wlrn.org/post/police-offering-drug-recovery-help-we-cant-arrest-our-way-out-problem', 'https://www.wmot.org/post/police-offering-drug-recovery-help-we-cant-arrest-our-way-out-problem', 'https://www.wncw.org/post/police-offering-drug-recovery-help-we-cant-arrest-our-way-out-problem', 'https://www.wrvo.org/post/police-offering-drug-recovery-help-we-cant-arrest-our-way-out-problem', 'https://www.wshu.org/post/police-offering-drug-recovery-help-we-cant-arrest-our-way-out-problem', 'https://www.wunc.org/post/police-offering-drug-recovery-help-we-cant-arrest-our-way-out-problem', 'https://www.wuwm.com/post/police-offering-drug-recovery-help-we-cant-arrest-our-way-out-problem', 'https://www.wvtf.org/post/police-offering-drug-recovery-help-we-cant-arrest-our-way-out-problem', 'https://www.wvxu.org/post/police-offering-drug-recovery-help-we-cant-arrest-our-way-out-problem', 'https://www.wwno.org/post/police-offering-drug-recovery-help-we-cant-arrest-our-way-out-problem', 'https://www.wxpr.org/post/police-offering-drug-recovery-help-we-cant-arrest-our-way-out-problem', 'https://www.wyomingpublicmedia.org/post/police-offering-drug-recovery-help-we-cant-arrest-our-way-out-problem', 'https://www.wypr.org/post/police-offering-drug-recovery-help-we-cant-arrest-our-way-out-problem', 'https://www.wuft.org/nation-world/2020/02/08/police-offering-drug-recovery-help-we-cant-arrest-our-way-out-of-this-problem/', 'https://www.northcountrypublicradio.org/news/npr/802318886/police-offering-drug-recovery-help-we-can-t-arrest-our-way-out-of-this-problem', 'https://www.mprnews.org/story/2020/02/08/npr-police-offering-drug-recovery-help-we-can-t-arrest-our-way-out-of-this-problem']\n",
            "['http://golfdigest.com/story/seve-ballesteros']\n",
            "['https://www.irishmirror.ie/showbiz/celebrity-news/victoria-beckham-shares-heartbreak-death-21257757', 'https://www.mirror.co.uk/3am/celebrity-news/victoria-beckham-shares-heartbreak-death-21257731', 'https://www.celebsnow.co.uk/latest-celebrity-news/victoria-beckham-heartbreaking-message-death-friend-804378']\n",
            "['https://www.seattletimes.com/entertainment/movies/seattle-opera-takes-on-the-timeless-drama-of-eugene-onegin/?utm_source=RSS&utm_medium=Referral&utm_campaign=RSS_all']\n",
            "['http://www.vulture.com/2020/01/grammys-2020-maggie-rogers-best-new-artist.html', 'https://hypervocal.com/items/3193833']\n"
          ]
        }
      ]
    },
    {
      "cell_type": "code",
      "metadata": {
        "id": "oS07usiaz44s"
      },
      "source": [
        "incre = 0\n",
        "for chunk in pd.read_csv('/content/drive/MyDrive/ada-sports-quotes/sport-quotes-2020.csv.bz2', compression='bz2', chunksize=100):\n",
        "  incre += 1\n",
        "  if incre > 1 :\n",
        "    break\n",
        "  sources = []\n",
        "  chunk.head()"
      ],
      "execution_count": 73,
      "outputs": []
    },
    {
      "cell_type": "code",
      "metadata": {
        "colab": {
          "base_uri": "https://localhost:8080/"
        },
        "id": "bDI_nGvR0CXX",
        "outputId": "4e27da43-743d-453d-d547-65b7fdfbc2f4"
      },
      "source": [
        "chunk.urls.head()"
      ],
      "execution_count": 103,
      "outputs": [
        {
          "output_type": "execute_result",
          "data": {
            "text/plain": [
              "100    [http://home.nzcity.co.nz/nl.aspx?4422414, htt...\n",
              "101    [https://www.dailystar.co.uk/showbiz/breaking-...\n",
              "102    [http://delmarvapublicradio.net/post/police-of...\n",
              "103       [http://golfdigest.com/story/seve-ballesteros]\n",
              "104    [https://www.irishmirror.ie/showbiz/celebrity-...\n",
              "Name: urls, dtype: object"
            ]
          },
          "metadata": {},
          "execution_count": 103
        }
      ]
    },
    {
      "cell_type": "code",
      "metadata": {
        "colab": {
          "base_uri": "https://localhost:8080/",
          "height": 289
        },
        "id": "pz2_hlCc9HGH",
        "outputId": "b5072cd6-3964-49b6-de55-d1d4f4923419"
      },
      "source": [
        "sports_quotes.head()"
      ],
      "execution_count": 3,
      "outputs": [
        {
          "output_type": "execute_result",
          "data": {
            "text/html": [
              "<div>\n",
              "<style scoped>\n",
              "    .dataframe tbody tr th:only-of-type {\n",
              "        vertical-align: middle;\n",
              "    }\n",
              "\n",
              "    .dataframe tbody tr th {\n",
              "        vertical-align: top;\n",
              "    }\n",
              "\n",
              "    .dataframe thead th {\n",
              "        text-align: right;\n",
              "    }\n",
              "</style>\n",
              "<table border=\"1\" class=\"dataframe\">\n",
              "  <thead>\n",
              "    <tr style=\"text-align: right;\">\n",
              "      <th></th>\n",
              "      <th>quoteID</th>\n",
              "      <th>quotation</th>\n",
              "      <th>speaker</th>\n",
              "      <th>qids</th>\n",
              "      <th>date</th>\n",
              "      <th>numOccurrences</th>\n",
              "      <th>probas</th>\n",
              "      <th>urls</th>\n",
              "      <th>phase</th>\n",
              "    </tr>\n",
              "  </thead>\n",
              "  <tbody>\n",
              "    <tr>\n",
              "      <th>2</th>\n",
              "      <td>2020-02-10-000142</td>\n",
              "      <td>... He (Madhav) also disclosed that the illega...</td>\n",
              "      <td>None</td>\n",
              "      <td>[]</td>\n",
              "      <td>2020-02-10 23:45:54</td>\n",
              "      <td>1</td>\n",
              "      <td>[[None, 0.8926], [Prakash Rai, 0.1074]]</td>\n",
              "      <td>[https://indianexpress.com/article/business/ec...</td>\n",
              "      <td>E</td>\n",
              "    </tr>\n",
              "    <tr>\n",
              "      <th>16</th>\n",
              "      <td>2020-01-08-000594</td>\n",
              "      <td>11 straight weeks of pre-season,</td>\n",
              "      <td>Aphelele Fassi</td>\n",
              "      <td>[Q56255401]</td>\n",
              "      <td>2020-01-08 10:22:11</td>\n",
              "      <td>1</td>\n",
              "      <td>[[Aphelele Fassi, 0.9033], [None, 0.0967]]</td>\n",
              "      <td>[https://www.sport24.co.za/Rugby/SuperRugby/sh...</td>\n",
              "      <td>E</td>\n",
              "    </tr>\n",
              "    <tr>\n",
              "      <th>75</th>\n",
              "      <td>2020-02-05-003863</td>\n",
              "      <td>All of our players have worked really hard to ...</td>\n",
              "      <td>Lisa Thomaidis</td>\n",
              "      <td>[Q18354456]</td>\n",
              "      <td>2020-02-05 00:00:00</td>\n",
              "      <td>4</td>\n",
              "      <td>[[Lisa Thomaidis, 0.877], [None, 0.1202], [Mir...</td>\n",
              "      <td>[https://www.chathamdailynews.ca/sports/local-...</td>\n",
              "      <td>E</td>\n",
              "    </tr>\n",
              "    <tr>\n",
              "      <th>99</th>\n",
              "      <td>2020-01-10-004685</td>\n",
              "      <td>And because Jerry is under the age of 24, Roth...</td>\n",
              "      <td>Jerry Yates</td>\n",
              "      <td>[Q23463606]</td>\n",
              "      <td>2020-01-10 05:31:29</td>\n",
              "      <td>2</td>\n",
              "      <td>[[Jerry Yates, 0.3703], [None, 0.3142], [RICHI...</td>\n",
              "      <td>[http://www.gazetteandherald.co.uk/sport/18151...</td>\n",
              "      <td>E</td>\n",
              "    </tr>\n",
              "    <tr>\n",
              "      <th>150</th>\n",
              "      <td>2020-02-14-007492</td>\n",
              "      <td>As everyone knows, Rangers abhor all forms of ...</td>\n",
              "      <td>None</td>\n",
              "      <td>[]</td>\n",
              "      <td>2020-02-14 13:32:08</td>\n",
              "      <td>2</td>\n",
              "      <td>[[None, 0.8594], [Gary Dicker, 0.0785], [Alex ...</td>\n",
              "      <td>[https://www.dailyrecord.co.uk/sport/football/...</td>\n",
              "      <td>E</td>\n",
              "    </tr>\n",
              "  </tbody>\n",
              "</table>\n",
              "</div>"
            ],
            "text/plain": [
              "               quoteID  ... phase\n",
              "2    2020-02-10-000142  ...     E\n",
              "16   2020-01-08-000594  ...     E\n",
              "75   2020-02-05-003863  ...     E\n",
              "99   2020-01-10-004685  ...     E\n",
              "150  2020-02-14-007492  ...     E\n",
              "\n",
              "[5 rows x 9 columns]"
            ]
          },
          "metadata": {},
          "execution_count": 3
        }
      ]
    },
    {
      "cell_type": "code",
      "metadata": {
        "colab": {
          "base_uri": "https://localhost:8080/"
        },
        "id": "w_VbO_EmCVCW",
        "outputId": "a45e3457-8adb-4c6f-df51-82f885e146ef"
      },
      "source": [
        "sum(sports_quotes == 'None')"
      ],
      "execution_count": 8,
      "outputs": [
        {
          "output_type": "execute_result",
          "data": {
            "text/plain": [
              "0"
            ]
          },
          "metadata": {},
          "execution_count": 8
        }
      ]
    },
    {
      "cell_type": "code",
      "metadata": {
        "colab": {
          "base_uri": "https://localhost:8080/",
          "height": 282
        },
        "id": "oZlld3YKBPDU",
        "outputId": "5e45b8aa-e802-4ee8-9dd8-53b46a341898"
      },
      "source": [
        "incre = 1\n",
        "sources = []\n",
        "for urls in sports_quotes.urls:\n",
        "  for url in urls:\n",
        "    res = get_tld(url, as_object=True)\n",
        "    sources.append(res.domain)\n",
        "dfsources = pd.DataFrame()\n",
        "dfsources['label'] = sources\n",
        "test = dfsources.groupby(dfsources.label).size().reset_index(name='counts')\n",
        "test.sort_values('counts')\n",
        "sns.histplot(test)"
      ],
      "execution_count": 107,
      "outputs": [
        {
          "output_type": "execute_result",
          "data": {
            "text/plain": [
              "<matplotlib.axes._subplots.AxesSubplot at 0x7faa983731d0>"
            ]
          },
          "metadata": {},
          "execution_count": 107
        },
        {
          "output_type": "display_data",
          "data": {
            "image/png": "[encoded data removed]",
            "text/plain": [
              "<Figure size 432x288 with 1 Axes>"
            ]
          },
          "metadata": {
            "needs_background": "light"
          }
        }
      ]
    },
    {
      "cell_type": "code",
      "metadata": {
        "colab": {
          "base_uri": "https://localhost:8080/"
        },
        "id": "AUtN2urq25pw",
        "outputId": "aa694cc1-ee80-43b2-faf2-176f8e8a9526"
      },
      "source": [
        "urls"
      ],
      "execution_count": 89,
      "outputs": [
        {
          "output_type": "execute_result",
          "data": {
            "text/plain": [
              "['http://www.gazetteandherald.co.uk/sport/18151097.jerry-yates-extremely-unlikely-recalled-despite-rotherham-losing-loan-star-carlton-morris/',\n",
              " 'http://www.swindonadvertiser.co.uk/sport/18151097.jerry-yates-extremely-unlikely-recalled-despite-rotherham-losing-loan-star-carlton-morris/']"
            ]
          },
          "metadata": {},
          "execution_count": 89
        }
      ]
    },
    {
      "cell_type": "code",
      "metadata": {
        "id": "Eny6_A81jva-"
      },
      "source": [
        "test = dfsources.groupby(dfsources.label).size().reset_index(name='counts')"
      ],
      "execution_count": 64,
      "outputs": []
    },
    {
      "cell_type": "code",
      "metadata": {
        "colab": {
          "base_uri": "https://localhost:8080/",
          "height": 282
        },
        "id": "JSwU-yxNwXlH",
        "outputId": "81b0cb24-2607-49a8-fa6a-c3bab84a74ee"
      },
      "source": [
        "sns.histplot(test)"
      ],
      "execution_count": 65,
      "outputs": [
        {
          "output_type": "execute_result",
          "data": {
            "text/plain": [
              "<matplotlib.axes._subplots.AxesSubplot at 0x7faa97f4a310>"
            ]
          },
          "metadata": {},
          "execution_count": 65
        },
        {
          "output_type": "display_data",
          "data": {
            "image/png": "[encoded data removed]",
            "text/plain": [
              "<Figure size 432x288 with 1 Axes>"
            ]
          },
          "metadata": {
            "needs_background": "light"
          }
        }
      ]
    },
    {
      "cell_type": "code",
      "metadata": {
        "colab": {
          "base_uri": "https://localhost:8080/",
          "height": 419
        },
        "id": "li_9K5k9xPh8",
        "outputId": "6174a06a-81a8-4670-cec7-f52c7b4458f3"
      },
      "source": [
        "test.sort_values('counts')"
      ],
      "execution_count": 108,
      "outputs": [
        {
          "output_type": "execute_result",
          "data": {
            "text/html": [
              "<div>\n",
              "<style scoped>\n",
              "    .dataframe tbody tr th:only-of-type {\n",
              "        vertical-align: middle;\n",
              "    }\n",
              "\n",
              "    .dataframe tbody tr th {\n",
              "        vertical-align: top;\n",
              "    }\n",
              "\n",
              "    .dataframe thead th {\n",
              "        text-align: right;\n",
              "    }\n",
              "</style>\n",
              "<table border=\"1\" class=\"dataframe\">\n",
              "  <thead>\n",
              "    <tr style=\"text-align: right;\">\n",
              "      <th></th>\n",
              "      <th>label</th>\n",
              "      <th>counts</th>\n",
              "    </tr>\n",
              "  </thead>\n",
              "  <tbody>\n",
              "    <tr>\n",
              "      <th>469</th>\n",
              "      <td>medicalxpress</td>\n",
              "      <td>1</td>\n",
              "    </tr>\n",
              "    <tr>\n",
              "      <th>343</th>\n",
              "      <td>hoopshype</td>\n",
              "      <td>1</td>\n",
              "    </tr>\n",
              "    <tr>\n",
              "      <th>342</th>\n",
              "      <td>hollywoodreporter</td>\n",
              "      <td>1</td>\n",
              "    </tr>\n",
              "    <tr>\n",
              "      <th>739</th>\n",
              "      <td>the72</td>\n",
              "      <td>1</td>\n",
              "    </tr>\n",
              "    <tr>\n",
              "      <th>337</th>\n",
              "      <td>heraldscotland</td>\n",
              "      <td>1</td>\n",
              "    </tr>\n",
              "    <tr>\n",
              "      <th>...</th>\n",
              "      <td>...</td>\n",
              "      <td>...</td>\n",
              "    </tr>\n",
              "    <tr>\n",
              "      <th>833</th>\n",
              "      <td>tradingroom</td>\n",
              "      <td>37</td>\n",
              "    </tr>\n",
              "    <tr>\n",
              "      <th>534</th>\n",
              "      <td>newsok</td>\n",
              "      <td>39</td>\n",
              "    </tr>\n",
              "    <tr>\n",
              "      <th>654</th>\n",
              "      <td>skysports</td>\n",
              "      <td>53</td>\n",
              "    </tr>\n",
              "    <tr>\n",
              "      <th>493</th>\n",
              "      <td>msn</td>\n",
              "      <td>113</td>\n",
              "    </tr>\n",
              "    <tr>\n",
              "      <th>512</th>\n",
              "      <td>nbcsports</td>\n",
              "      <td>119</td>\n",
              "    </tr>\n",
              "  </tbody>\n",
              "</table>\n",
              "<p>940 rows × 2 columns</p>\n",
              "</div>"
            ],
            "text/plain": [
              "                 label  counts\n",
              "469      medicalxpress       1\n",
              "343          hoopshype       1\n",
              "342  hollywoodreporter       1\n",
              "739              the72       1\n",
              "337     heraldscotland       1\n",
              "..                 ...     ...\n",
              "833        tradingroom      37\n",
              "534             newsok      39\n",
              "654          skysports      53\n",
              "493                msn     113\n",
              "512          nbcsports     119\n",
              "\n",
              "[940 rows x 2 columns]"
            ]
          },
          "metadata": {},
          "execution_count": 108
        }
      ]
    },
    {
      "cell_type": "code",
      "metadata": {
        "id": "rWepn6wCpnnm"
      },
      "source": [
        "dfsources['label'] = sources"
      ],
      "execution_count": 39,
      "outputs": []
    },
    {
      "cell_type": "code",
      "metadata": {
        "colab": {
          "base_uri": "https://localhost:8080/",
          "height": 163
        },
        "id": "yJ4JUeIxl1ep",
        "outputId": "2c83cf8e-e75a-4f51-bcf1-f0fb8938a699"
      },
      "source": [
        "test = dfsources.groupby(dfsources.label).agg('count')"
      ],
      "execution_count": 54,
      "outputs": [
        {
          "output_type": "error",
          "ename": "TypeError",
          "evalue": "ignored",
          "traceback": [
            "\u001b[0;31m---------------------------------------------------------------------------\u001b[0m",
            "\u001b[0;31mTypeError\u001b[0m                                 Traceback (most recent call last)",
            "\u001b[0;32m<ipython-input-54-02e74f966768>\u001b[0m in \u001b[0;36m<module>\u001b[0;34m()\u001b[0m\n\u001b[0;32m----> 1\u001b[0;31m \u001b[0mtest\u001b[0m \u001b[0;34m=\u001b[0m \u001b[0mdfsources\u001b[0m\u001b[0;34m.\u001b[0m\u001b[0mgroupby\u001b[0m\u001b[0;34m(\u001b[0m\u001b[0mdfsources\u001b[0m\u001b[0;34m.\u001b[0m\u001b[0mlabel\u001b[0m\u001b[0;34m)\u001b[0m\u001b[0;34m.\u001b[0m\u001b[0magg\u001b[0m\u001b[0;34m(\u001b[0m\u001b[0;34m'count'\u001b[0m\u001b[0;34m)\u001b[0m\u001b[0;34m.\u001b[0m\u001b[0msort_values\u001b[0m\u001b[0;34m(\u001b[0m\u001b[0;34m)\u001b[0m\u001b[0;34m\u001b[0m\u001b[0;34m\u001b[0m\u001b[0m\n\u001b[0m",
            "\u001b[0;31mTypeError\u001b[0m: sort_values() missing 1 required positional argument: 'by'"
          ]
        }
      ]
    },
    {
      "cell_type": "code",
      "metadata": {
        "colab": {
          "base_uri": "https://localhost:8080/",
          "height": 282
        },
        "id": "AyHdry7foj21",
        "outputId": "53c6e728-359c-48b9-869b-21f079a9a25b"
      },
      "source": [
        "sns.histplot(test)"
      ],
      "execution_count": 57,
      "outputs": [
        {
          "output_type": "execute_result",
          "data": {
            "text/plain": [
              "<matplotlib.axes._subplots.AxesSubplot at 0x7faa99d5fe50>"
            ]
          },
          "metadata": {},
          "execution_count": 57
        },
        {
          "output_type": "display_data",
          "data": {
            "image/png": "[encoded data removed]",
            "text/plain": [
              "<Figure size 432x288 with 1 Axes>"
            ]
          },
          "metadata": {
            "needs_background": "light"
          }
        }
      ]
    },
    {
      "cell_type": "code",
      "metadata": {
        "colab": {
          "base_uri": "https://localhost:8080/"
        },
        "id": "cOhovLkEq56g",
        "outputId": "35d0ebb4-b538-46f7-d06b-6ed0ad043bd0"
      },
      "source": [
        "test.label.head()"
      ],
      "execution_count": 56,
      "outputs": [
        {
          "output_type": "execute_result",
          "data": {
            "text/plain": [
              "247sports     1\n",
              "abc           3\n",
              "abc15         1\n",
              "abc17news     1\n",
              "abqjournal    1\n",
              "Name: label, dtype: int64"
            ]
          },
          "metadata": {},
          "execution_count": 56
        }
      ]
    },
    {
      "cell_type": "code",
      "metadata": {
        "colab": {
          "base_uri": "https://localhost:8080/"
        },
        "id": "zNlDgRmyoClj",
        "outputId": "4927ce61-ae96-4727-f134-1d039495d95d"
      },
      "source": [
        "sources"
      ],
      "execution_count": 21,
      "outputs": [
        {
          "output_type": "execute_result",
          "data": {
            "text/plain": [
              "0         indianexpress\n",
              "1               sport24\n",
              "2      chathamdailynews\n",
              "3        simcoereformer\n",
              "4       tillsonburgnews\n",
              "             ...       \n",
              "626       hulldailymail\n",
              "627       hulldailymail\n",
              "628       hulldailymail\n",
              "629           foxsports\n",
              "630      postandcourier\n",
              "Length: 631, dtype: object"
            ]
          },
          "metadata": {},
          "execution_count": 21
        }
      ]
    },
    {
      "cell_type": "code",
      "metadata": {
        "colab": {
          "base_uri": "https://localhost:8080/"
        },
        "id": "rlSRqYo0k2r-",
        "outputId": "2fc3fb8e-1b3c-4186-e6a4-426f2856b67a"
      },
      "source": [
        "len(np.unique(sources))"
      ],
      "execution_count": 14,
      "outputs": [
        {
          "output_type": "execute_result",
          "data": {
            "text/plain": [
              "381"
            ]
          },
          "metadata": {},
          "execution_count": 14
        }
      ]
    },
    {
      "cell_type": "code",
      "metadata": {
        "colab": {
          "base_uri": "https://localhost:8080/",
          "height": 282
        },
        "id": "gw6viLMTlqYw",
        "outputId": "bdae945c-9209-44df-ffad-3535ad139fae"
      },
      "source": [
        "sns.histplot(sources)"
      ],
      "execution_count": 15,
      "outputs": [
        {
          "output_type": "execute_result",
          "data": {
            "text/plain": [
              "<matplotlib.axes._subplots.AxesSubplot at 0x7faa9c982650>"
            ]
          },
          "metadata": {},
          "execution_count": 15
        },
        {
          "output_type": "display_data",
          "data": {
            "image/png": "[encoded data removed]",
            "text/plain": [
              "<Figure size 432x288 with 1 Axes>"
            ]
          },
          "metadata": {
            "needs_background": "light"
          }
        }
      ]
    },
    {
      "cell_type": "code",
      "metadata": {
        "colab": {
          "base_uri": "https://localhost:8080/"
        },
        "id": "ochYPfiQ4TxX",
        "outputId": "7485da4c-0924-4a7b-e979-595f0d02e1f3"
      },
      "source": [
        "sports_quotes.urls.head()"
      ],
      "execution_count": 28,
      "outputs": [
        {
          "output_type": "execute_result",
          "data": {
            "text/plain": [
              "50001    [http://www.leaderlive.co.uk/sport/18175294.fa...\n",
              "50003    [https://arizonasports.com/story/2288518/d-bac...\n",
              "50004    [https://www.irishmirror.ie/sport/gaa/gaelic-f...\n",
              "50018    [https://www.govtech.com/fs/transportation/Cal...\n",
              "50071    [http://state-journal.com/local_sports/lady-fl...\n",
              "Name: urls, dtype: object"
            ]
          },
          "metadata": {},
          "execution_count": 28
        }
      ]
    },
    {
      "cell_type": "code",
      "metadata": {
        "colab": {
          "base_uri": "https://localhost:8080/"
        },
        "id": "xF5nCosb4432",
        "outputId": "62974450-13db-4405-ed01-982c07702524"
      },
      "source": [
        "chunk.urls.head()"
      ],
      "execution_count": 14,
      "outputs": [
        {
          "output_type": "execute_result",
          "data": {
            "text/plain": [
              "110000    [https://www.ocregister.com/2020/03/25/orange-...\n",
              "110001    [https://www.thehindu.com/news/cities/chennai/...\n",
              "110002    [https://newyork.cbslocal.com/2020/01/07/oklah...\n",
              "110003    [https://www.mlive.com/spartans/2020/02/overhe...\n",
              "110004    [http://newyorker.com/business/currency/how-pr...\n",
              "Name: urls, dtype: object"
            ]
          },
          "metadata": {},
          "execution_count": 14
        }
      ]
    },
    {
      "cell_type": "code",
      "metadata": {
        "id": "AXX5CviWl-32"
      },
      "source": [
        "import pandas as pd\n",
        "\n",
        "def process_chunk(chunk):\n",
        "        print(f'Processing chunk with {len(chunk)} rows')\n",
        "        print(chunk.columns)\n",
        "\n",
        "df_reader = pd.read_json('/content/drive/MyDrive/Quotebank/quotes-2020.json.bz2', lines=True, compression='bz2', chunksize=10000)\n",
        "for chunk in df_reader:\n",
        "        process_chunk(chunk)"
      ],
      "execution_count": null,
      "outputs": []
    },
    {
      "cell_type": "code",
      "metadata": {
        "id": "FSJ9sDoIZUeQ"
      },
      "source": [
        "data = pd.read_json('/content/drive/MyDrive/Quotebank/quotes-2020.json.bz2',compression='bz2',lines=True,nrows=100)"
      ],
      "execution_count": null,
      "outputs": []
    },
    {
      "cell_type": "code",
      "metadata": {
        "colab": {
          "base_uri": "https://localhost:8080/",
          "height": 323
        },
        "id": "al8v3vsEqOP1",
        "outputId": "104c6704-29ae-459d-b2c4-38e98536c52d"
      },
      "source": [
        "iris_data = pd.read_json(\"https://raw.githubusercontent.com/domoritz/maps/master/data/iris.json\",lines=True)\n",
        "iris_data.head(30)"
      ],
      "execution_count": null,
      "outputs": [
        {
          "output_type": "error",
          "ename": "ValueError",
          "evalue": "ignored",
          "traceback": [
            "\u001b[0;31m---------------------------------------------------------------------------\u001b[0m",
            "\u001b[0;31mValueError\u001b[0m                                Traceback (most recent call last)",
            "\u001b[0;32m<ipython-input-6-5783980e15e7>\u001b[0m in \u001b[0;36m<module>\u001b[0;34m()\u001b[0m\n\u001b[0;32m----> 1\u001b[0;31m \u001b[0miris_data\u001b[0m \u001b[0;34m=\u001b[0m \u001b[0mpd\u001b[0m\u001b[0;34m.\u001b[0m\u001b[0mread_json\u001b[0m\u001b[0;34m(\u001b[0m\u001b[0;34m\"https://raw.githubusercontent.com/domoritz/maps/master/data/iris.json\"\u001b[0m\u001b[0;34m,\u001b[0m\u001b[0mlines\u001b[0m\u001b[0;34m=\u001b[0m\u001b[0;32mTrue\u001b[0m\u001b[0;34m)\u001b[0m\u001b[0;34m\u001b[0m\u001b[0;34m\u001b[0m\u001b[0m\n\u001b[0m\u001b[1;32m      2\u001b[0m \u001b[0miris_data\u001b[0m\u001b[0;34m.\u001b[0m\u001b[0mhead\u001b[0m\u001b[0;34m(\u001b[0m\u001b[0;36m30\u001b[0m\u001b[0;34m)\u001b[0m\u001b[0;34m\u001b[0m\u001b[0;34m\u001b[0m\u001b[0m\n",
            "\u001b[0;32m/usr/local/lib/python3.7/dist-packages/pandas/util/_decorators.py\u001b[0m in \u001b[0;36mwrapper\u001b[0;34m(*args, **kwargs)\u001b[0m\n\u001b[1;32m    197\u001b[0m                 \u001b[0;32melse\u001b[0m\u001b[0;34m:\u001b[0m\u001b[0;34m\u001b[0m\u001b[0;34m\u001b[0m\u001b[0m\n\u001b[1;32m    198\u001b[0m                     \u001b[0mkwargs\u001b[0m\u001b[0;34m[\u001b[0m\u001b[0mnew_arg_name\u001b[0m\u001b[0;34m]\u001b[0m \u001b[0;34m=\u001b[0m \u001b[0mnew_arg_value\u001b[0m\u001b[0;34m\u001b[0m\u001b[0;34m\u001b[0m\u001b[0m\n\u001b[0;32m--> 199\u001b[0;31m             \u001b[0;32mreturn\u001b[0m \u001b[0mfunc\u001b[0m\u001b[0;34m(\u001b[0m\u001b[0;34m*\u001b[0m\u001b[0margs\u001b[0m\u001b[0;34m,\u001b[0m \u001b[0;34m**\u001b[0m\u001b[0mkwargs\u001b[0m\u001b[0;34m)\u001b[0m\u001b[0;34m\u001b[0m\u001b[0;34m\u001b[0m\u001b[0m\n\u001b[0m\u001b[1;32m    200\u001b[0m \u001b[0;34m\u001b[0m\u001b[0m\n\u001b[1;32m    201\u001b[0m         \u001b[0;32mreturn\u001b[0m \u001b[0mcast\u001b[0m\u001b[0;34m(\u001b[0m\u001b[0mF\u001b[0m\u001b[0;34m,\u001b[0m \u001b[0mwrapper\u001b[0m\u001b[0;34m)\u001b[0m\u001b[0;34m\u001b[0m\u001b[0;34m\u001b[0m\u001b[0m\n",
            "\u001b[0;32m/usr/local/lib/python3.7/dist-packages/pandas/util/_decorators.py\u001b[0m in \u001b[0;36mwrapper\u001b[0;34m(*args, **kwargs)\u001b[0m\n\u001b[1;32m    294\u001b[0m                 )\n\u001b[1;32m    295\u001b[0m                 \u001b[0mwarnings\u001b[0m\u001b[0;34m.\u001b[0m\u001b[0mwarn\u001b[0m\u001b[0;34m(\u001b[0m\u001b[0mmsg\u001b[0m\u001b[0;34m,\u001b[0m \u001b[0mFutureWarning\u001b[0m\u001b[0;34m,\u001b[0m \u001b[0mstacklevel\u001b[0m\u001b[0;34m=\u001b[0m\u001b[0mstacklevel\u001b[0m\u001b[0;34m)\u001b[0m\u001b[0;34m\u001b[0m\u001b[0;34m\u001b[0m\u001b[0m\n\u001b[0;32m--> 296\u001b[0;31m             \u001b[0;32mreturn\u001b[0m \u001b[0mfunc\u001b[0m\u001b[0;34m(\u001b[0m\u001b[0;34m*\u001b[0m\u001b[0margs\u001b[0m\u001b[0;34m,\u001b[0m \u001b[0;34m**\u001b[0m\u001b[0mkwargs\u001b[0m\u001b[0;34m)\u001b[0m\u001b[0;34m\u001b[0m\u001b[0;34m\u001b[0m\u001b[0m\n\u001b[0m\u001b[1;32m    297\u001b[0m \u001b[0;34m\u001b[0m\u001b[0m\n\u001b[1;32m    298\u001b[0m         \u001b[0;32mreturn\u001b[0m \u001b[0mwrapper\u001b[0m\u001b[0;34m\u001b[0m\u001b[0;34m\u001b[0m\u001b[0m\n",
            "\u001b[0;32m/usr/local/lib/python3.7/dist-packages/pandas/io/json/_json.py\u001b[0m in \u001b[0;36mread_json\u001b[0;34m(path_or_buf, orient, typ, dtype, convert_axes, convert_dates, keep_default_dates, numpy, precise_float, date_unit, encoding, lines, chunksize, compression, nrows)\u001b[0m\n\u001b[1;32m    616\u001b[0m         \u001b[0;32mreturn\u001b[0m \u001b[0mjson_reader\u001b[0m\u001b[0;34m\u001b[0m\u001b[0;34m\u001b[0m\u001b[0m\n\u001b[1;32m    617\u001b[0m \u001b[0;34m\u001b[0m\u001b[0m\n\u001b[0;32m--> 618\u001b[0;31m     \u001b[0mresult\u001b[0m \u001b[0;34m=\u001b[0m \u001b[0mjson_reader\u001b[0m\u001b[0;34m.\u001b[0m\u001b[0mread\u001b[0m\u001b[0;34m(\u001b[0m\u001b[0;34m)\u001b[0m\u001b[0;34m\u001b[0m\u001b[0;34m\u001b[0m\u001b[0m\n\u001b[0m\u001b[1;32m    619\u001b[0m     \u001b[0;32mif\u001b[0m \u001b[0mshould_close\u001b[0m\u001b[0;34m:\u001b[0m\u001b[0;34m\u001b[0m\u001b[0;34m\u001b[0m\u001b[0m\n\u001b[1;32m    620\u001b[0m         \u001b[0mfilepath_or_buffer\u001b[0m\u001b[0;34m.\u001b[0m\u001b[0mclose\u001b[0m\u001b[0;34m(\u001b[0m\u001b[0;34m)\u001b[0m\u001b[0;34m\u001b[0m\u001b[0;34m\u001b[0m\u001b[0m\n",
            "\u001b[0;32m/usr/local/lib/python3.7/dist-packages/pandas/io/json/_json.py\u001b[0m in \u001b[0;36mread\u001b[0;34m(self)\u001b[0m\n\u001b[1;32m    751\u001b[0m                 \u001b[0mdata\u001b[0m \u001b[0;34m=\u001b[0m \u001b[0mensure_str\u001b[0m\u001b[0;34m(\u001b[0m\u001b[0mself\u001b[0m\u001b[0;34m.\u001b[0m\u001b[0mdata\u001b[0m\u001b[0;34m)\u001b[0m\u001b[0;34m\u001b[0m\u001b[0;34m\u001b[0m\u001b[0m\n\u001b[1;32m    752\u001b[0m                 \u001b[0mdata\u001b[0m \u001b[0;34m=\u001b[0m \u001b[0mdata\u001b[0m\u001b[0;34m.\u001b[0m\u001b[0msplit\u001b[0m\u001b[0;34m(\u001b[0m\u001b[0;34m\"\\n\"\u001b[0m\u001b[0;34m)\u001b[0m\u001b[0;34m\u001b[0m\u001b[0;34m\u001b[0m\u001b[0m\n\u001b[0;32m--> 753\u001b[0;31m                 \u001b[0mobj\u001b[0m \u001b[0;34m=\u001b[0m \u001b[0mself\u001b[0m\u001b[0;34m.\u001b[0m\u001b[0m_get_object_parser\u001b[0m\u001b[0;34m(\u001b[0m\u001b[0mself\u001b[0m\u001b[0;34m.\u001b[0m\u001b[0m_combine_lines\u001b[0m\u001b[0;34m(\u001b[0m\u001b[0mdata\u001b[0m\u001b[0;34m)\u001b[0m\u001b[0;34m)\u001b[0m\u001b[0;34m\u001b[0m\u001b[0;34m\u001b[0m\u001b[0m\n\u001b[0m\u001b[1;32m    754\u001b[0m         \u001b[0;32melse\u001b[0m\u001b[0;34m:\u001b[0m\u001b[0;34m\u001b[0m\u001b[0;34m\u001b[0m\u001b[0m\n\u001b[1;32m    755\u001b[0m             \u001b[0mobj\u001b[0m \u001b[0;34m=\u001b[0m \u001b[0mself\u001b[0m\u001b[0;34m.\u001b[0m\u001b[0m_get_object_parser\u001b[0m\u001b[0;34m(\u001b[0m\u001b[0mself\u001b[0m\u001b[0;34m.\u001b[0m\u001b[0mdata\u001b[0m\u001b[0;34m)\u001b[0m\u001b[0;34m\u001b[0m\u001b[0;34m\u001b[0m\u001b[0m\n",
            "\u001b[0;32m/usr/local/lib/python3.7/dist-packages/pandas/io/json/_json.py\u001b[0m in \u001b[0;36m_get_object_parser\u001b[0;34m(self, json)\u001b[0m\n\u001b[1;32m    775\u001b[0m         \u001b[0mobj\u001b[0m \u001b[0;34m=\u001b[0m \u001b[0;32mNone\u001b[0m\u001b[0;34m\u001b[0m\u001b[0;34m\u001b[0m\u001b[0m\n\u001b[1;32m    776\u001b[0m         \u001b[0;32mif\u001b[0m \u001b[0mtyp\u001b[0m \u001b[0;34m==\u001b[0m \u001b[0;34m\"frame\"\u001b[0m\u001b[0;34m:\u001b[0m\u001b[0;34m\u001b[0m\u001b[0;34m\u001b[0m\u001b[0m\n\u001b[0;32m--> 777\u001b[0;31m             \u001b[0mobj\u001b[0m \u001b[0;34m=\u001b[0m \u001b[0mFrameParser\u001b[0m\u001b[0;34m(\u001b[0m\u001b[0mjson\u001b[0m\u001b[0;34m,\u001b[0m \u001b[0;34m**\u001b[0m\u001b[0mkwargs\u001b[0m\u001b[0;34m)\u001b[0m\u001b[0;34m.\u001b[0m\u001b[0mparse\u001b[0m\u001b[0;34m(\u001b[0m\u001b[0;34m)\u001b[0m\u001b[0;34m\u001b[0m\u001b[0;34m\u001b[0m\u001b[0m\n\u001b[0m\u001b[1;32m    778\u001b[0m \u001b[0;34m\u001b[0m\u001b[0m\n\u001b[1;32m    779\u001b[0m         \u001b[0;32mif\u001b[0m \u001b[0mtyp\u001b[0m \u001b[0;34m==\u001b[0m \u001b[0;34m\"series\"\u001b[0m \u001b[0;32mor\u001b[0m \u001b[0mobj\u001b[0m \u001b[0;32mis\u001b[0m \u001b[0;32mNone\u001b[0m\u001b[0;34m:\u001b[0m\u001b[0;34m\u001b[0m\u001b[0;34m\u001b[0m\u001b[0m\n",
            "\u001b[0;32m/usr/local/lib/python3.7/dist-packages/pandas/io/json/_json.py\u001b[0m in \u001b[0;36mparse\u001b[0;34m(self)\u001b[0m\n\u001b[1;32m    884\u001b[0m \u001b[0;34m\u001b[0m\u001b[0m\n\u001b[1;32m    885\u001b[0m         \u001b[0;32melse\u001b[0m\u001b[0;34m:\u001b[0m\u001b[0;34m\u001b[0m\u001b[0;34m\u001b[0m\u001b[0m\n\u001b[0;32m--> 886\u001b[0;31m             \u001b[0mself\u001b[0m\u001b[0;34m.\u001b[0m\u001b[0m_parse_no_numpy\u001b[0m\u001b[0;34m(\u001b[0m\u001b[0;34m)\u001b[0m\u001b[0;34m\u001b[0m\u001b[0;34m\u001b[0m\u001b[0m\n\u001b[0m\u001b[1;32m    887\u001b[0m \u001b[0;34m\u001b[0m\u001b[0m\n\u001b[1;32m    888\u001b[0m         \u001b[0;32mif\u001b[0m \u001b[0mself\u001b[0m\u001b[0;34m.\u001b[0m\u001b[0mobj\u001b[0m \u001b[0;32mis\u001b[0m \u001b[0;32mNone\u001b[0m\u001b[0;34m:\u001b[0m\u001b[0;34m\u001b[0m\u001b[0;34m\u001b[0m\u001b[0m\n",
            "\u001b[0;32m/usr/local/lib/python3.7/dist-packages/pandas/io/json/_json.py\u001b[0m in \u001b[0;36m_parse_no_numpy\u001b[0;34m(self)\u001b[0m\n\u001b[1;32m   1117\u001b[0m         \u001b[0;32mif\u001b[0m \u001b[0morient\u001b[0m \u001b[0;34m==\u001b[0m \u001b[0;34m\"columns\"\u001b[0m\u001b[0;34m:\u001b[0m\u001b[0;34m\u001b[0m\u001b[0;34m\u001b[0m\u001b[0m\n\u001b[1;32m   1118\u001b[0m             self.obj = DataFrame(\n\u001b[0;32m-> 1119\u001b[0;31m                 \u001b[0mloads\u001b[0m\u001b[0;34m(\u001b[0m\u001b[0mjson\u001b[0m\u001b[0;34m,\u001b[0m \u001b[0mprecise_float\u001b[0m\u001b[0;34m=\u001b[0m\u001b[0mself\u001b[0m\u001b[0;34m.\u001b[0m\u001b[0mprecise_float\u001b[0m\u001b[0;34m)\u001b[0m\u001b[0;34m,\u001b[0m \u001b[0mdtype\u001b[0m\u001b[0;34m=\u001b[0m\u001b[0;32mNone\u001b[0m\u001b[0;34m\u001b[0m\u001b[0;34m\u001b[0m\u001b[0m\n\u001b[0m\u001b[1;32m   1120\u001b[0m             )\n\u001b[1;32m   1121\u001b[0m         \u001b[0;32melif\u001b[0m \u001b[0morient\u001b[0m \u001b[0;34m==\u001b[0m \u001b[0;34m\"split\"\u001b[0m\u001b[0;34m:\u001b[0m\u001b[0;34m\u001b[0m\u001b[0;34m\u001b[0m\u001b[0m\n",
            "\u001b[0;31mValueError\u001b[0m: Expected object or value"
          ]
        }
      ]
    },
    {
      "cell_type": "code",
      "metadata": {
        "id": "Dq4ZsOCr8mi1"
      },
      "source": [
        "\n",
        "incre = 0;\n",
        "\n",
        "        if incre > 5 :\n",
        "          break\n",
        "        incre += 1\n",
        "        print(incre)"
      ],
      "execution_count": null,
      "outputs": []
    },
    {
      "cell_type": "code",
      "metadata": {
        "colab": {
          "base_uri": "https://localhost:8080/"
        },
        "id": "AV6J4UAgstCA",
        "outputId": "4641d317-c2b8-4ce1-fe1b-eebec50aef97"
      },
      "source": [
        "import bz2\n",
        "import json\n",
        "\n",
        "path_to_file = '/content/drive/MyDrive/Quotebank/quotes-2020.json.bz2' \n",
        "path_to_out = '/content/quotes-2020-domains.json.bz2'\n",
        "\n",
        "incre = 0;\n",
        "with bz2.open(path_to_file, 'rb') as s_file:\n",
        "      for instance in s_file:\n",
        "        if incre > 5 :\n",
        "          break\n",
        "        instance = json.loads(instance) # loading a sample\n",
        "        print(instance)\n",
        "        incre += 1\n",
        "        print(incre)\n"
      ],
      "execution_count": null,
      "outputs": [
        {
          "output_type": "stream",
          "name": "stdout",
          "text": [
            "{'quoteID': '2020-01-28-000082', 'quotation': '[ D ] espite the efforts of the partners to create a non-political award that unites the Jewish people, some have incorrectly interpreted the participation of the Office of the Prime Minister in the Genesis Prize as bringing a political dimension to this important initiative,', 'speaker': 'None', 'qids': [], 'date': '2020-01-28 08:04:05', 'numOccurrences': 1, 'probas': [['None', '0.7272'], ['Prime Minister Netanyahu', '0.2445'], ['Natan Sharansky', '0.0283']], 'urls': ['http://israelnationalnews.com/News/News.aspx/275210'], 'phase': 'E'}\n",
            "1\n",
            "{'quoteID': '2020-01-16-000088', 'quotation': '[ Department of Homeland Security ] was livid and strongly urged to have the agenda pulled.', 'speaker': 'Sue Myrick', 'qids': ['Q367796'], 'date': '2020-01-16 12:00:13', 'numOccurrences': 1, 'probas': [['Sue Myrick', '0.8867'], ['None', '0.0992'], ['Ron Wyden', '0.0141']], 'urls': ['http://thehill.com/opinion/international/478224-saudi-critics-should-revisit-sue-myricks-wake-up-america-agenda'], 'phase': 'E'}\n",
            "2\n",
            "{'quoteID': '2020-02-10-000142', 'quotation': '... He (Madhav) also disclosed that the illegal bribe amount is collected from transporters through various middlemen and the same is collected by one Sh Madan Garg, GSTO, who distributes the shares of all officers, including one Sh Udit Prakash Rai, IAS, AGMUT...', 'speaker': 'None', 'qids': [], 'date': '2020-02-10 23:45:54', 'numOccurrences': 1, 'probas': [['None', '0.8926'], ['Prakash Rai', '0.1074']], 'urls': ['https://indianexpress.com/article/business/economy/cbi-to-court-gst-officials-taking-cut-from-transporters-6261429/'], 'phase': 'E'}\n",
            "3\n",
            "{'quoteID': '2020-02-15-000053', 'quotation': '... [ I ] f it gets to the floor,', 'speaker': 'None', 'qids': [], 'date': '2020-02-15 14:12:51', 'numOccurrences': 2, 'probas': [['None', '0.581'], ['Andy Harris', '0.4191']], 'urls': ['https://patriotpost.us/opinion/68622-trump-budget-a-cut-above-the-rest-2020-02-15', 'https://www.lifenews.com/2020/02/15/nancy-pelosi-and-democrats-push-bill-to-overturn-every-pro-life-law-saving-babies-from-abortions/'], 'phase': 'E'}\n",
            "4\n",
            "{'quoteID': '2020-01-24-000168', 'quotation': '[ I met them ] when they just turned 4 and 7. They were little. They felt like my full-blown stepkids.', 'speaker': 'Meghan King Edmonds', 'qids': ['Q20684375'], 'date': '2020-01-24 20:37:09', 'numOccurrences': 4, 'probas': [['Meghan King Edmonds', '0.5446'], ['None', '0.2705'], ['Heather McDonald', '0.1599'], ['Carly Wilson', '0.013'], ['Jim Edmonds', '0.012']], 'urls': ['https://people.com/parents/meghan-king-edmonds-not-using-frozen-embryos-with-jim-edmonds/', 'https://people.com/parents/meghan-king-edmonds-stepkids-poisoned-false-information-about-her-jim-edmonds/', 'https://www.usmagazine.com/celebrity-news/news/meghan-king-edmonds-says-shes-been-blocked-from-stepkids/', 'https://people.com/tv/meghan-king-edmonds-jim-edmonds-came-with-baggage-kids/'], 'phase': 'E'}\n",
            "5\n",
            "{'quoteID': '2020-02-27-000223', 'quotation': \"[ one's ] individual's physical characteristics, including chromosomal, gonadal and genital features\", 'speaker': 'None', 'qids': [], 'date': '2020-02-27 08:27:00', 'numOccurrences': 1, 'probas': [['None', '0.7164'], ['Prince Charles', '0.2836']], 'urls': ['https://ukhumanrightsblog.com/2020/02/27/the-forstater-employment-tribunal-judgment-a-critical-appraisal-in-light-of-miller-karon-monaghan-qc/?share=email'], 'phase': 'E'}\n",
            "6\n"
          ]
        }
      ]
    },
    {
      "cell_type": "code",
      "metadata": {
        "id": "hR5Yi1qbbOf5",
        "colab": {
          "base_uri": "https://localhost:8080/"
        },
        "outputId": "73d43990-d441-4294-9147-78c4cdad4c70"
      },
      "source": [
        "!pip install tld"
      ],
      "execution_count": null,
      "outputs": [
        {
          "output_type": "stream",
          "name": "stdout",
          "text": [
            "Collecting tld\n",
            "  Downloading tld-0.12.6-py37-none-any.whl (412 kB)\n",
            "\u001b[?25l\r\u001b[K     |▉                               | 10 kB 27.0 MB/s eta 0:00:01\r\u001b[K     |█▋                              | 20 kB 27.3 MB/s eta 0:00:01\r\u001b[K     |██▍                             | 30 kB 13.3 MB/s eta 0:00:01\r\u001b[K     |███▏                            | 40 kB 9.9 MB/s eta 0:00:01\r\u001b[K     |████                            | 51 kB 5.5 MB/s eta 0:00:01\r\u001b[K     |████▊                           | 61 kB 6.0 MB/s eta 0:00:01\r\u001b[K     |█████▋                          | 71 kB 5.7 MB/s eta 0:00:01\r\u001b[K     |██████▍                         | 81 kB 6.4 MB/s eta 0:00:01\r\u001b[K     |███████▏                        | 92 kB 4.8 MB/s eta 0:00:01\r\u001b[K     |████████                        | 102 kB 5.2 MB/s eta 0:00:01\r\u001b[K     |████████▊                       | 112 kB 5.2 MB/s eta 0:00:01\r\u001b[K     |█████████▌                      | 122 kB 5.2 MB/s eta 0:00:01\r\u001b[K     |██████████▍                     | 133 kB 5.2 MB/s eta 0:00:01\r\u001b[K     |███████████▏                    | 143 kB 5.2 MB/s eta 0:00:01\r\u001b[K     |████████████                    | 153 kB 5.2 MB/s eta 0:00:01\r\u001b[K     |████████████▊                   | 163 kB 5.2 MB/s eta 0:00:01\r\u001b[K     |█████████████▌                  | 174 kB 5.2 MB/s eta 0:00:01\r\u001b[K     |██████████████▎                 | 184 kB 5.2 MB/s eta 0:00:01\r\u001b[K     |███████████████                 | 194 kB 5.2 MB/s eta 0:00:01\r\u001b[K     |████████████████                | 204 kB 5.2 MB/s eta 0:00:01\r\u001b[K     |████████████████▊               | 215 kB 5.2 MB/s eta 0:00:01\r\u001b[K     |█████████████████▌              | 225 kB 5.2 MB/s eta 0:00:01\r\u001b[K     |██████████████████▎             | 235 kB 5.2 MB/s eta 0:00:01\r\u001b[K     |███████████████████             | 245 kB 5.2 MB/s eta 0:00:01\r\u001b[K     |███████████████████▉            | 256 kB 5.2 MB/s eta 0:00:01\r\u001b[K     |████████████████████▊           | 266 kB 5.2 MB/s eta 0:00:01\r\u001b[K     |█████████████████████▌          | 276 kB 5.2 MB/s eta 0:00:01\r\u001b[K     |██████████████████████▎         | 286 kB 5.2 MB/s eta 0:00:01\r\u001b[K     |███████████████████████         | 296 kB 5.2 MB/s eta 0:00:01\r\u001b[K     |███████████████████████▉        | 307 kB 5.2 MB/s eta 0:00:01\r\u001b[K     |████████████████████████▋       | 317 kB 5.2 MB/s eta 0:00:01\r\u001b[K     |█████████████████████████▍      | 327 kB 5.2 MB/s eta 0:00:01\r\u001b[K     |██████████████████████████▎     | 337 kB 5.2 MB/s eta 0:00:01\r\u001b[K     |███████████████████████████     | 348 kB 5.2 MB/s eta 0:00:01\r\u001b[K     |███████████████████████████▉    | 358 kB 5.2 MB/s eta 0:00:01\r\u001b[K     |████████████████████████████▋   | 368 kB 5.2 MB/s eta 0:00:01\r\u001b[K     |█████████████████████████████▍  | 378 kB 5.2 MB/s eta 0:00:01\r\u001b[K     |██████████████████████████████▏ | 389 kB 5.2 MB/s eta 0:00:01\r\u001b[K     |███████████████████████████████ | 399 kB 5.2 MB/s eta 0:00:01\r\u001b[K     |███████████████████████████████▉| 409 kB 5.2 MB/s eta 0:00:01\r\u001b[K     |████████████████████████████████| 412 kB 5.2 MB/s \n",
            "\u001b[?25hInstalling collected packages: tld\n",
            "Successfully installed tld-0.12.6\n"
          ]
        }
      ]
    },
    {
      "cell_type": "code",
      "metadata": {
        "id": "Fzhy95fPbN2h"
      },
      "source": [
        "from tld import get_tld\n",
        "\n",
        "def get_domain(url):\n",
        "    res = get_tld(url, as_object=True)\n",
        "    return res.domain"
      ],
      "execution_count": null,
      "outputs": []
    },
    {
      "cell_type": "code",
      "metadata": {
        "id": "74SCxCHeaz1g"
      },
      "source": [
        "import bz2\n",
        "import json\n",
        "\n",
        "path_to_file = '/content/drive/MyDrive/Quotebank/quotes-2020.json.bz2' \n",
        "path_to_out = '/content/quotes-2020-domains.json.bz2'\n",
        "\n",
        "incre = 0\n",
        "with bz2.open(path_to_file, 'rb') as s_file:\n",
        "    with bz2.open(path_to_out, 'wb') as d_file:\n",
        "        for instance in s_file:\n",
        "            if incre > 1e4 :\n",
        "              break\n",
        "            incre += 1\n",
        "            instance = json.loads(instance) # loading a sample\n",
        "            urls = instance['urls'] # extracting list of links\n",
        "            domains = []\n",
        "            for url in urls:\n",
        "                tld = get_domain(url)\n",
        "                domains.append(tld)\n",
        "            instance['domains'] = domains # updating the sample with domain name\n",
        "            d_file.write((json.dumps(instance)+'\\n').encode('utf-8')) # writing in the new file"
      ],
      "execution_count": null,
      "outputs": []
    },
    {
      "cell_type": "code",
      "metadata": {
        "colab": {
          "base_uri": "https://localhost:8080/"
        },
        "id": "HdVWSiMIcQQv",
        "outputId": "436a18a9-060f-43cc-bb33-5239c2b4dc7e"
      },
      "source": [
        "path_to_file = '/content/quotes-2020-domains.json.bz2'\n",
        "\n",
        "incre = 0;\n",
        "with bz2.open(path_to_file, 'rb') as s_file:\n",
        "      for instance in s_file:\n",
        "        instance = json.loads(instance) # loading a sample\n",
        "        print(instance)\n",
        "        incre += 1"
      ],
      "execution_count": null,
      "outputs": [
        {
          "output_type": "stream",
          "name": "stdout",
          "text": [
            "{'quoteID': '2020-01-28-000082', 'quotation': '[ D ] espite the efforts of the partners to create a non-political award that unites the Jewish people, some have incorrectly interpreted the participation of the Office of the Prime Minister in the Genesis Prize as bringing a political dimension to this important initiative,', 'speaker': 'None', 'qids': [], 'date': '2020-01-28 08:04:05', 'numOccurrences': 1, 'probas': [['None', '0.7272'], ['Prime Minister Netanyahu', '0.2445'], ['Natan Sharansky', '0.0283']], 'urls': ['http://israelnationalnews.com/News/News.aspx/275210'], 'phase': 'E', 'domains': ['israelnationalnews']}\n",
            "{'quoteID': '2020-01-16-000088', 'quotation': '[ Department of Homeland Security ] was livid and strongly urged to have the agenda pulled.', 'speaker': 'Sue Myrick', 'qids': ['Q367796'], 'date': '2020-01-16 12:00:13', 'numOccurrences': 1, 'probas': [['Sue Myrick', '0.8867'], ['None', '0.0992'], ['Ron Wyden', '0.0141']], 'urls': ['http://thehill.com/opinion/international/478224-saudi-critics-should-revisit-sue-myricks-wake-up-america-agenda'], 'phase': 'E', 'domains': ['thehill']}\n",
            "{'quoteID': '2020-02-10-000142', 'quotation': '... He (Madhav) also disclosed that the illegal bribe amount is collected from transporters through various middlemen and the same is collected by one Sh Madan Garg, GSTO, who distributes the shares of all officers, including one Sh Udit Prakash Rai, IAS, AGMUT...', 'speaker': 'None', 'qids': [], 'date': '2020-02-10 23:45:54', 'numOccurrences': 1, 'probas': [['None', '0.8926'], ['Prakash Rai', '0.1074']], 'urls': ['https://indianexpress.com/article/business/economy/cbi-to-court-gst-officials-taking-cut-from-transporters-6261429/'], 'phase': 'E', 'domains': ['indianexpress']}\n",
            "{'quoteID': '2020-02-15-000053', 'quotation': '... [ I ] f it gets to the floor,', 'speaker': 'None', 'qids': [], 'date': '2020-02-15 14:12:51', 'numOccurrences': 2, 'probas': [['None', '0.581'], ['Andy Harris', '0.4191']], 'urls': ['https://patriotpost.us/opinion/68622-trump-budget-a-cut-above-the-rest-2020-02-15', 'https://www.lifenews.com/2020/02/15/nancy-pelosi-and-democrats-push-bill-to-overturn-every-pro-life-law-saving-babies-from-abortions/'], 'phase': 'E', 'domains': ['patriotpost', 'lifenews']}\n",
            "{'quoteID': '2020-01-24-000168', 'quotation': '[ I met them ] when they just turned 4 and 7. They were little. They felt like my full-blown stepkids.', 'speaker': 'Meghan King Edmonds', 'qids': ['Q20684375'], 'date': '2020-01-24 20:37:09', 'numOccurrences': 4, 'probas': [['Meghan King Edmonds', '0.5446'], ['None', '0.2705'], ['Heather McDonald', '0.1599'], ['Carly Wilson', '0.013'], ['Jim Edmonds', '0.012']], 'urls': ['https://people.com/parents/meghan-king-edmonds-not-using-frozen-embryos-with-jim-edmonds/', 'https://people.com/parents/meghan-king-edmonds-stepkids-poisoned-false-information-about-her-jim-edmonds/', 'https://www.usmagazine.com/celebrity-news/news/meghan-king-edmonds-says-shes-been-blocked-from-stepkids/', 'https://people.com/tv/meghan-king-edmonds-jim-edmonds-came-with-baggage-kids/'], 'phase': 'E', 'domains': ['people', 'people', 'usmagazine', 'people']}\n",
            "{'quoteID': '2020-02-27-000223', 'quotation': \"[ one's ] individual's physical characteristics, including chromosomal, gonadal and genital features\", 'speaker': 'None', 'qids': [], 'date': '2020-02-27 08:27:00', 'numOccurrences': 1, 'probas': [['None', '0.7164'], ['Prince Charles', '0.2836']], 'urls': ['https://ukhumanrightsblog.com/2020/02/27/the-forstater-employment-tribunal-judgment-a-critical-appraisal-in-light-of-miller-karon-monaghan-qc/?share=email'], 'phase': 'E', 'domains': ['ukhumanrightsblog']}\n"
          ]
        }
      ]
    },
    {
      "cell_type": "code",
      "metadata": {
        "colab": {
          "base_uri": "https://localhost:8080/"
        },
        "id": "0rOfocXtS-Cy",
        "outputId": "939cac07-d8b2-4ba2-aad4-eb2b3e49c546"
      },
      "source": [
        "print(domains)"
      ],
      "execution_count": null,
      "outputs": [
        {
          "output_type": "stream",
          "name": "stdout",
          "text": [
            "['edie']\n"
          ]
        }
      ]
    },
    {
      "cell_type": "code",
      "metadata": {
        "colab": {
          "base_uri": "https://localhost:8080/",
          "height": 316
        },
        "id": "s9GKAAYMtgCP",
        "outputId": "05113c09-8697-4155-c908-1e36f7ff9dcc"
      },
      "source": [
        "N = 3\n",
        "with open('/content/drive/MyDrive/Quotebank/quotes-2020.json.bz2') as f:\n",
        "    for i in range(0, N):\n",
        "        print(f.readline(), end = '')"
      ],
      "execution_count": null,
      "outputs": [
        {
          "output_type": "error",
          "ename": "UnicodeDecodeError",
          "evalue": "ignored",
          "traceback": [
            "\u001b[0;31m---------------------------------------------------------------------------\u001b[0m",
            "\u001b[0;31mUnicodeDecodeError\u001b[0m                        Traceback (most recent call last)",
            "\u001b[0;32m<ipython-input-7-7a7c5dc04ab7>\u001b[0m in \u001b[0;36m<module>\u001b[0;34m()\u001b[0m\n\u001b[1;32m      2\u001b[0m \u001b[0;32mwith\u001b[0m \u001b[0mopen\u001b[0m\u001b[0;34m(\u001b[0m\u001b[0;34m'/content/drive/MyDrive/Quotebank/quotes-2020.json.bz2'\u001b[0m\u001b[0;34m)\u001b[0m \u001b[0;32mas\u001b[0m \u001b[0mf\u001b[0m\u001b[0;34m:\u001b[0m\u001b[0;34m\u001b[0m\u001b[0;34m\u001b[0m\u001b[0m\n\u001b[1;32m      3\u001b[0m     \u001b[0;32mfor\u001b[0m \u001b[0mi\u001b[0m \u001b[0;32min\u001b[0m \u001b[0mrange\u001b[0m\u001b[0;34m(\u001b[0m\u001b[0;36m0\u001b[0m\u001b[0;34m,\u001b[0m \u001b[0mN\u001b[0m\u001b[0;34m)\u001b[0m\u001b[0;34m:\u001b[0m\u001b[0;34m\u001b[0m\u001b[0;34m\u001b[0m\u001b[0m\n\u001b[0;32m----> 4\u001b[0;31m         \u001b[0mprint\u001b[0m\u001b[0;34m(\u001b[0m\u001b[0mf\u001b[0m\u001b[0;34m.\u001b[0m\u001b[0mreadline\u001b[0m\u001b[0;34m(\u001b[0m\u001b[0;34m)\u001b[0m\u001b[0;34m,\u001b[0m \u001b[0mend\u001b[0m \u001b[0;34m=\u001b[0m \u001b[0;34m''\u001b[0m\u001b[0;34m)\u001b[0m\u001b[0;34m\u001b[0m\u001b[0;34m\u001b[0m\u001b[0m\n\u001b[0m",
            "\u001b[0;32m/usr/lib/python3.7/codecs.py\u001b[0m in \u001b[0;36mdecode\u001b[0;34m(self, input, final)\u001b[0m\n\u001b[1;32m    320\u001b[0m         \u001b[0;31m# decode input (taking the buffer into account)\u001b[0m\u001b[0;34m\u001b[0m\u001b[0;34m\u001b[0m\u001b[0;34m\u001b[0m\u001b[0m\n\u001b[1;32m    321\u001b[0m         \u001b[0mdata\u001b[0m \u001b[0;34m=\u001b[0m \u001b[0mself\u001b[0m\u001b[0;34m.\u001b[0m\u001b[0mbuffer\u001b[0m \u001b[0;34m+\u001b[0m \u001b[0minput\u001b[0m\u001b[0;34m\u001b[0m\u001b[0;34m\u001b[0m\u001b[0m\n\u001b[0;32m--> 322\u001b[0;31m         \u001b[0;34m(\u001b[0m\u001b[0mresult\u001b[0m\u001b[0;34m,\u001b[0m \u001b[0mconsumed\u001b[0m\u001b[0;34m)\u001b[0m \u001b[0;34m=\u001b[0m \u001b[0mself\u001b[0m\u001b[0;34m.\u001b[0m\u001b[0m_buffer_decode\u001b[0m\u001b[0;34m(\u001b[0m\u001b[0mdata\u001b[0m\u001b[0;34m,\u001b[0m \u001b[0mself\u001b[0m\u001b[0;34m.\u001b[0m\u001b[0merrors\u001b[0m\u001b[0;34m,\u001b[0m \u001b[0mfinal\u001b[0m\u001b[0;34m)\u001b[0m\u001b[0;34m\u001b[0m\u001b[0;34m\u001b[0m\u001b[0m\n\u001b[0m\u001b[1;32m    323\u001b[0m         \u001b[0;31m# keep undecoded input until the next call\u001b[0m\u001b[0;34m\u001b[0m\u001b[0;34m\u001b[0m\u001b[0;34m\u001b[0m\u001b[0m\n\u001b[1;32m    324\u001b[0m         \u001b[0mself\u001b[0m\u001b[0;34m.\u001b[0m\u001b[0mbuffer\u001b[0m \u001b[0;34m=\u001b[0m \u001b[0mdata\u001b[0m\u001b[0;34m[\u001b[0m\u001b[0mconsumed\u001b[0m\u001b[0;34m:\u001b[0m\u001b[0;34m]\u001b[0m\u001b[0;34m\u001b[0m\u001b[0;34m\u001b[0m\u001b[0m\n",
            "\u001b[0;31mUnicodeDecodeError\u001b[0m: 'utf-8' codec can't decode byte 0x8d in position 10: invalid start byte"
          ]
        }
      ]
    },
    {
      "cell_type": "code",
      "metadata": {
        "colab": {
          "base_uri": "https://localhost:8080/"
        },
        "id": "91T6Sh4huhBf",
        "outputId": "5d64c839-bf4a-4416-965c-1b000c13b804"
      },
      "source": [
        "%%bashhead /content/drive/MyDrive/Quotebank/quotes-2020.json.bz2"
      ],
      "execution_count": null,
      "outputs": [
        {
          "output_type": "stream",
          "name": "stderr",
          "text": [
            "UsageError: Cell magic `%%bashhead` not found.\n"
          ]
        }
      ]
    },
    {
      "cell_type": "code",
      "metadata": {
        "colab": {
          "base_uri": "https://localhost:8080/"
        },
        "id": "TybVEmOsfowI",
        "outputId": "217eb7e3-1b0f-4357-bea5-b81f1a32127b"
      },
      "source": [
        "import bz2\n",
        "import json\n",
        "\n",
        "path_to_file = '/content/drive/MyDrive/Quotebank/quotes-2020.json.bz2' \n",
        "path_to_out = '/content/quotes-2020-domains.json.bz2'\n",
        "\n",
        "incre = 0\n",
        "with bz2.open(path_to_file, 'rb') as s_file:\n",
        "  for instance in s_file:\n",
        "    incre += 1\n",
        "print(incre)"
      ],
      "execution_count": null,
      "outputs": [
        {
          "output_type": "stream",
          "name": "stdout",
          "text": [
            "5244449\n"
          ]
        }
      ]
    }
  ]
}