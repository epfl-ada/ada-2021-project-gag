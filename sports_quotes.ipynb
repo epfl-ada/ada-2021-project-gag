{
 "cells": [
  {
   "cell_type": "code",
   "execution_count": 19,
   "id": "36d9020a-5498-4e8e-a7fd-47ed7d25e08a",
   "metadata": {},
   "outputs": [],
   "source": [
    "import time\n",
    "import pandas as pd\n",
    "from os import listdir"
   ]
  },
  {
   "cell_type": "code",
   "execution_count": 20,
   "id": "cb23cd59-100f-4664-8682-fb0ead26a505",
   "metadata": {},
   "outputs": [],
   "source": [
    "CHUNK_SIZE: int    = 1 << 16\n",
    "DATA_DIR_PATH: str = 'quotebank'\n",
    "OUT_DIR_PATH: str  = 'out'"
   ]
  },
  {
   "cell_type": "code",
   "execution_count": 21,
   "id": "2edbf8f6-c93a-4d3c-a365-6b0f0649924f",
   "metadata": {},
   "outputs": [],
   "source": [
    "!mkdir out"
   ]
  },
  {
   "cell_type": "code",
   "execution_count": 22,
   "id": "1c65a25c-49fd-4e15-bc29-967b290cc3e7",
   "metadata": {},
   "outputs": [],
   "source": [
    "data_files = listdir(DATA_DIR_PATH)\n",
    "data_files.sort()"
   ]
  },
  {
   "cell_type": "code",
   "execution_count": 23,
   "id": "53e525ae-aa9d-4b8b-ac0f-7fb516b83f8b",
   "metadata": {},
   "outputs": [
    {
     "name": "stdout",
     "output_type": "stream",
     "text": [
      "  - Processing chunk #0 (size = 65536) for file 'quotebank/quotes-2015.json.bz2'\n",
      "  - Processing chunk #16 (size = 65536) for file 'quotebank/quotes-2015.json.bz2'\n",
      "  - Processing chunk #32 (size = 65536) for file 'quotebank/quotes-2015.json.bz2'\n",
      "  - Processing chunk #48 (size = 65536) for file 'quotebank/quotes-2015.json.bz2'\n",
      "  - Processing chunk #64 (size = 65536) for file 'quotebank/quotes-2015.json.bz2'\n",
      "  - Processing chunk #80 (size = 65536) for file 'quotebank/quotes-2015.json.bz2'\n",
      "  - Processing chunk #96 (size = 65536) for file 'quotebank/quotes-2015.json.bz2'\n",
      "  - Processing chunk #112 (size = 65536) for file 'quotebank/quotes-2015.json.bz2'\n",
      "  - Processing chunk #128 (size = 65536) for file 'quotebank/quotes-2015.json.bz2'\n",
      "  - Processing chunk #144 (size = 65536) for file 'quotebank/quotes-2015.json.bz2'\n",
      "  - Processing chunk #160 (size = 65536) for file 'quotebank/quotes-2015.json.bz2'\n",
      "  - Processing chunk #176 (size = 65536) for file 'quotebank/quotes-2015.json.bz2'\n",
      "  - Processing chunk #192 (size = 65536) for file 'quotebank/quotes-2015.json.bz2'\n",
      "  - Processing chunk #208 (size = 65536) for file 'quotebank/quotes-2015.json.bz2'\n",
      "  - Processing chunk #224 (size = 65536) for file 'quotebank/quotes-2015.json.bz2'\n",
      "  - Processing chunk #240 (size = 65536) for file 'quotebank/quotes-2015.json.bz2'\n",
      "  - Processing chunk #256 (size = 65536) for file 'quotebank/quotes-2015.json.bz2'\n",
      "  - Processing chunk #272 (size = 65536) for file 'quotebank/quotes-2015.json.bz2'\n",
      "  - Processing chunk #288 (size = 65536) for file 'quotebank/quotes-2015.json.bz2'\n",
      "  - Processing chunk #304 (size = 65536) for file 'quotebank/quotes-2015.json.bz2'\n",
      ">>> Processed a total of 319 chunks for file 'quotebank/quotes-2015.json.bz2' => total of 3296787 lines out of 20905984\n",
      "  - Processing chunk #0 (size = 65536) for file 'quotebank/quotes-2016.json.bz2'\n",
      "  - Processing chunk #16 (size = 65536) for file 'quotebank/quotes-2016.json.bz2'\n",
      "  - Processing chunk #32 (size = 65536) for file 'quotebank/quotes-2016.json.bz2'\n",
      "  - Processing chunk #48 (size = 65536) for file 'quotebank/quotes-2016.json.bz2'\n",
      "  - Processing chunk #64 (size = 65536) for file 'quotebank/quotes-2016.json.bz2'\n",
      "  - Processing chunk #80 (size = 65536) for file 'quotebank/quotes-2016.json.bz2'\n",
      "  - Processing chunk #96 (size = 65536) for file 'quotebank/quotes-2016.json.bz2'\n",
      "  - Processing chunk #112 (size = 65536) for file 'quotebank/quotes-2016.json.bz2'\n",
      "  - Processing chunk #128 (size = 65536) for file 'quotebank/quotes-2016.json.bz2'\n",
      "  - Processing chunk #144 (size = 65536) for file 'quotebank/quotes-2016.json.bz2'\n",
      "  - Processing chunk #160 (size = 65536) for file 'quotebank/quotes-2016.json.bz2'\n",
      "  - Processing chunk #176 (size = 65536) for file 'quotebank/quotes-2016.json.bz2'\n",
      "  - Processing chunk #192 (size = 65536) for file 'quotebank/quotes-2016.json.bz2'\n",
      "  - Processing chunk #208 (size = 65536) for file 'quotebank/quotes-2016.json.bz2'\n",
      ">>> Processed a total of 212 chunks for file 'quotebank/quotes-2016.json.bz2' => total of 2286930 lines out of 13893632\n",
      "  - Processing chunk #0 (size = 65536) for file 'quotebank/quotes-2017.json.bz2'\n",
      "  - Processing chunk #16 (size = 65536) for file 'quotebank/quotes-2017.json.bz2'\n",
      "  - Processing chunk #32 (size = 65536) for file 'quotebank/quotes-2017.json.bz2'\n",
      "  - Processing chunk #48 (size = 65536) for file 'quotebank/quotes-2017.json.bz2'\n",
      "  - Processing chunk #64 (size = 65536) for file 'quotebank/quotes-2017.json.bz2'\n",
      "  - Processing chunk #80 (size = 65536) for file 'quotebank/quotes-2017.json.bz2'\n",
      "  - Processing chunk #96 (size = 65536) for file 'quotebank/quotes-2017.json.bz2'\n",
      "  - Processing chunk #112 (size = 65536) for file 'quotebank/quotes-2017.json.bz2'\n",
      "  - Processing chunk #128 (size = 65536) for file 'quotebank/quotes-2017.json.bz2'\n",
      "  - Processing chunk #144 (size = 65536) for file 'quotebank/quotes-2017.json.bz2'\n",
      "  - Processing chunk #160 (size = 65536) for file 'quotebank/quotes-2017.json.bz2'\n",
      "  - Processing chunk #176 (size = 65536) for file 'quotebank/quotes-2017.json.bz2'\n",
      "  - Processing chunk #192 (size = 65536) for file 'quotebank/quotes-2017.json.bz2'\n",
      "  - Processing chunk #208 (size = 65536) for file 'quotebank/quotes-2017.json.bz2'\n",
      "  - Processing chunk #224 (size = 65536) for file 'quotebank/quotes-2017.json.bz2'\n",
      "  - Processing chunk #240 (size = 65536) for file 'quotebank/quotes-2017.json.bz2'\n",
      "  - Processing chunk #256 (size = 65536) for file 'quotebank/quotes-2017.json.bz2'\n",
      "  - Processing chunk #272 (size = 65536) for file 'quotebank/quotes-2017.json.bz2'\n",
      "  - Processing chunk #288 (size = 65536) for file 'quotebank/quotes-2017.json.bz2'\n",
      "  - Processing chunk #304 (size = 65536) for file 'quotebank/quotes-2017.json.bz2'\n",
      "  - Processing chunk #320 (size = 65536) for file 'quotebank/quotes-2017.json.bz2'\n",
      "  - Processing chunk #336 (size = 65536) for file 'quotebank/quotes-2017.json.bz2'\n",
      "  - Processing chunk #352 (size = 65536) for file 'quotebank/quotes-2017.json.bz2'\n",
      "  - Processing chunk #368 (size = 65536) for file 'quotebank/quotes-2017.json.bz2'\n",
      "  - Processing chunk #384 (size = 65536) for file 'quotebank/quotes-2017.json.bz2'\n",
      "  - Processing chunk #400 (size = 65536) for file 'quotebank/quotes-2017.json.bz2'\n",
      ">>> Processed a total of 407 chunks for file 'quotebank/quotes-2017.json.bz2' => total of 4621534 lines out of 26673152\n",
      "  - Processing chunk #0 (size = 65536) for file 'quotebank/quotes-2018.json.bz2'\n",
      "  - Processing chunk #16 (size = 65536) for file 'quotebank/quotes-2018.json.bz2'\n",
      "  - Processing chunk #32 (size = 65536) for file 'quotebank/quotes-2018.json.bz2'\n",
      "  - Processing chunk #48 (size = 65536) for file 'quotebank/quotes-2018.json.bz2'\n",
      "  - Processing chunk #64 (size = 65536) for file 'quotebank/quotes-2018.json.bz2'\n",
      "  - Processing chunk #80 (size = 65536) for file 'quotebank/quotes-2018.json.bz2'\n",
      "  - Processing chunk #96 (size = 65536) for file 'quotebank/quotes-2018.json.bz2'\n",
      "  - Processing chunk #112 (size = 65536) for file 'quotebank/quotes-2018.json.bz2'\n",
      "  - Processing chunk #128 (size = 65536) for file 'quotebank/quotes-2018.json.bz2'\n",
      "  - Processing chunk #144 (size = 65536) for file 'quotebank/quotes-2018.json.bz2'\n",
      "  - Processing chunk #160 (size = 65536) for file 'quotebank/quotes-2018.json.bz2'\n",
      "  - Processing chunk #176 (size = 65536) for file 'quotebank/quotes-2018.json.bz2'\n",
      "  - Processing chunk #192 (size = 65536) for file 'quotebank/quotes-2018.json.bz2'\n",
      "  - Processing chunk #208 (size = 65536) for file 'quotebank/quotes-2018.json.bz2'\n",
      "  - Processing chunk #224 (size = 65536) for file 'quotebank/quotes-2018.json.bz2'\n",
      "  - Processing chunk #240 (size = 65536) for file 'quotebank/quotes-2018.json.bz2'\n",
      "  - Processing chunk #256 (size = 65536) for file 'quotebank/quotes-2018.json.bz2'\n",
      "  - Processing chunk #272 (size = 65536) for file 'quotebank/quotes-2018.json.bz2'\n",
      "  - Processing chunk #288 (size = 65536) for file 'quotebank/quotes-2018.json.bz2'\n",
      "  - Processing chunk #304 (size = 65536) for file 'quotebank/quotes-2018.json.bz2'\n",
      "  - Processing chunk #320 (size = 65536) for file 'quotebank/quotes-2018.json.bz2'\n",
      "  - Processing chunk #336 (size = 65536) for file 'quotebank/quotes-2018.json.bz2'\n",
      "  - Processing chunk #352 (size = 65536) for file 'quotebank/quotes-2018.json.bz2'\n",
      "  - Processing chunk #368 (size = 65536) for file 'quotebank/quotes-2018.json.bz2'\n",
      "  - Processing chunk #384 (size = 65536) for file 'quotebank/quotes-2018.json.bz2'\n",
      "  - Processing chunk #400 (size = 65536) for file 'quotebank/quotes-2018.json.bz2'\n",
      ">>> Processed a total of 416 chunks for file 'quotebank/quotes-2018.json.bz2' => total of 4274811 lines out of 27262976\n",
      "  - Processing chunk #0 (size = 65536) for file 'quotebank/quotes-2019.json.bz2'\n",
      "  - Processing chunk #16 (size = 65536) for file 'quotebank/quotes-2019.json.bz2'\n",
      "  - Processing chunk #32 (size = 65536) for file 'quotebank/quotes-2019.json.bz2'\n",
      "  - Processing chunk #48 (size = 65536) for file 'quotebank/quotes-2019.json.bz2'\n",
      "  - Processing chunk #64 (size = 65536) for file 'quotebank/quotes-2019.json.bz2'\n",
      "  - Processing chunk #80 (size = 65536) for file 'quotebank/quotes-2019.json.bz2'\n",
      "  - Processing chunk #96 (size = 65536) for file 'quotebank/quotes-2019.json.bz2'\n",
      "  - Processing chunk #112 (size = 65536) for file 'quotebank/quotes-2019.json.bz2'\n",
      "  - Processing chunk #128 (size = 65536) for file 'quotebank/quotes-2019.json.bz2'\n",
      "  - Processing chunk #144 (size = 65536) for file 'quotebank/quotes-2019.json.bz2'\n",
      "  - Processing chunk #160 (size = 65536) for file 'quotebank/quotes-2019.json.bz2'\n",
      "  - Processing chunk #176 (size = 65536) for file 'quotebank/quotes-2019.json.bz2'\n",
      "  - Processing chunk #192 (size = 65536) for file 'quotebank/quotes-2019.json.bz2'\n",
      "  - Processing chunk #208 (size = 65536) for file 'quotebank/quotes-2019.json.bz2'\n",
      "  - Processing chunk #224 (size = 65536) for file 'quotebank/quotes-2019.json.bz2'\n",
      "  - Processing chunk #240 (size = 65536) for file 'quotebank/quotes-2019.json.bz2'\n",
      "  - Processing chunk #256 (size = 65536) for file 'quotebank/quotes-2019.json.bz2'\n",
      "  - Processing chunk #272 (size = 65536) for file 'quotebank/quotes-2019.json.bz2'\n",
      "  - Processing chunk #288 (size = 65536) for file 'quotebank/quotes-2019.json.bz2'\n",
      "  - Processing chunk #304 (size = 65536) for file 'quotebank/quotes-2019.json.bz2'\n",
      "  - Processing chunk #320 (size = 65536) for file 'quotebank/quotes-2019.json.bz2'\n",
      ">>> Processed a total of 333 chunks for file 'quotebank/quotes-2019.json.bz2' => total of 2922983 lines out of 21823488\n",
      "  - Processing chunk #0 (size = 65536) for file 'quotebank/quotes-2020.json.bz2'\n",
      "  - Processing chunk #16 (size = 65536) for file 'quotebank/quotes-2020.json.bz2'\n",
      "  - Processing chunk #32 (size = 65536) for file 'quotebank/quotes-2020.json.bz2'\n",
      "  - Processing chunk #48 (size = 65536) for file 'quotebank/quotes-2020.json.bz2'\n",
      "  - Processing chunk #64 (size = 65536) for file 'quotebank/quotes-2020.json.bz2'\n",
      "  - Processing chunk #80 (size = 1569) for file 'quotebank/quotes-2020.json.bz2'\n",
      ">>> Processed a total of 81 chunks for file 'quotebank/quotes-2020.json.bz2' => total of 641614 lines out of 5308416\n",
      "--- 7471.038199901581 seconds ---\n"
     ]
    }
   ],
   "source": [
    "start_time = time.time()\n",
    "\n",
    "for filename in data_files:\n",
    "    file_path: str = '{}/{}'.format(DATA_DIR_PATH, filename)\n",
    "    comp_ext:  str = file_path.split('.')[-1]\n",
    "    out_path:  str = '{}/sport-{}.csv'.format(OUT_DIR_PATH, filename.split('.')[0])\n",
    "    \n",
    "    with pd.read_json(file_path, lines=True, compression=comp_ext, chunksize=CHUNK_SIZE) as df_reader:\n",
    "        \n",
    "        i: int = 0 # keeps track of the chunk number\n",
    "        total_lines: int = 0 # keeps track of output file length\n",
    "        export_header: bool = True\n",
    "        \n",
    "        for chunk in df_reader:   \n",
    "            if (i & 15 == 0):\n",
    "                print(f\"  - Processing chunk #{i} (size = {chunk.shape[0]}) for file '{file_path}'\")\n",
    "            \n",
    "            # keep only lines containing the 'sport' substring in the url(s)\n",
    "            sports_quotes = chunk[[any('sport' in url for url in url_list) for url_list in chunk.urls]]\n",
    "\n",
    "            sports_quotes.to_csv(out_path, mode='a', header=export_header)\n",
    "            export_header = False\n",
    "\n",
    "            total_lines += sports_quotes.shape[0]\n",
    "            i += 1\n",
    "\n",
    "        # summary at the end of a file\n",
    "        print(f\">>> Processed a total of {i} chunks for file '{file_path}' => total of {total_lines} lines out of {i * CHUNK_SIZE}\")\n",
    "\n",
    "\n",
    "print(\"--- %s seconds ---\" % (time.time() - start_time))"
   ]
  },
  {
   "cell_type": "code",
   "execution_count": 24,
   "id": "c79870a1-d824-4b21-a58f-f21f3fbbaa4d",
   "metadata": {},
   "outputs": [
    {
     "data": {
      "text/plain": [
       "124.51666666666667"
      ]
     },
     "execution_count": 24,
     "metadata": {},
     "output_type": "execute_result"
    }
   ],
   "source": [
    "7471 / 60"
   ]
  },
  {
   "cell_type": "code",
   "execution_count": 32,
   "id": "5334ed80-0698-4979-98c7-ab22aa063a87",
   "metadata": {},
   "outputs": [
    {
     "name": "stdout",
     "output_type": "stream",
     "text": [
      "  out/sport-quotes-2015.csv:  4.201:1,  1.904 bits/byte, 76.20% saved, 2586161046 in, 615620062 out.\n",
      "  out/sport-quotes-2016.csv:  4.384:1,  1.825 bits/byte, 77.19% saved, 2052387478 in, 468111951 out.\n",
      "  out/sport-quotes-2017.csv:  4.561:1,  1.754 bits/byte, 78.07% saved, 5103764884 in, 1119072564 out.\n",
      "  out/sport-quotes-2020.csv:  4.717:1,  1.696 bits/byte, 78.80% saved, 578289196 in, 122593618 out.\n",
      "  out/sport-quotes-2019.csv:  4.671:1,  1.713 bits/byte, 78.59% saved, 2621718521 in, 561288174 out.\n",
      "  out/sport-quotes-2018.csv:  4.769:1,  1.678 bits/byte, 79.03% saved, 4473331888 in, 938035681 out.\n"
     ]
    }
   ],
   "source": [
    "!find out -iname '*.csv' -exec bzip2 -kzv {} \\;\n",
    "!mkdir out_bz2\n",
    "!find out -iname '*.csv.bz2' -exec mv {} out_bz2 \\;"
   ]
  },
  {
   "cell_type": "code",
   "execution_count": null,
   "id": "d1efcb7d-f1a3-4710-8816-a6f494391e9c",
   "metadata": {},
   "outputs": [],
   "source": []
  }
 ],
 "metadata": {
  "kernelspec": {
   "display_name": "Python [conda env:ada] *",
   "language": "python",
   "name": "conda-env-ada-py"
  },
  "language_info": {
   "codemirror_mode": {
    "name": "ipython",
    "version": 3
   },
   "file_extension": ".py",
   "mimetype": "text/x-python",
   "name": "python",
   "nbconvert_exporter": "python",
   "pygments_lexer": "ipython3",
   "version": "3.8.11"
  }
 },
 "nbformat": 4,
 "nbformat_minor": 5
}
